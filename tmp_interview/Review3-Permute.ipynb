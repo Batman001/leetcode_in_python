{
 "cells": [
  {
   "cell_type": "markdown",
   "id": "noted-cement",
   "metadata": {},
   "source": [
    "### 全排列"
   ]
  },
  {
   "cell_type": "code",
   "execution_count": 1,
   "id": "discrete-contemporary",
   "metadata": {},
   "outputs": [],
   "source": [
    "# 递归实现\n",
    "def permute(arr):\n",
    "    result = []\n",
    "    \n",
    "    # 如果数组中有重复元素 可以通过去重后判断长度\n",
    "    if len(set(arr)) == 1:\n",
    "        return [arr]\n",
    "    for i, item in enumerate(arr):\n",
    "        sub_arr = arr[:i] + arr[i+1:]\n",
    "        \n",
    "        for sub_list in permute(sub_arr):\n",
    "            result.append([item] + sub_list)\n",
    "    return result\n",
    "            "
   ]
  },
  {
   "cell_type": "code",
   "execution_count": 2,
   "id": "residential-ranch",
   "metadata": {},
   "outputs": [
    {
     "data": {
      "text/plain": [
       "[[1, 2, 3, 3],\n",
       " [1, 3, 2, 3],\n",
       " [1, 3, 3, 2],\n",
       " [1, 3, 2, 3],\n",
       " [1, 3, 3, 2],\n",
       " [2, 1, 3, 3],\n",
       " [2, 3, 1, 3],\n",
       " [2, 3, 3, 1],\n",
       " [2, 3, 1, 3],\n",
       " [2, 3, 3, 1],\n",
       " [3, 1, 2, 3],\n",
       " [3, 1, 3, 2],\n",
       " [3, 2, 1, 3],\n",
       " [3, 2, 3, 1],\n",
       " [3, 3, 1, 2],\n",
       " [3, 3, 2, 1],\n",
       " [3, 1, 2, 3],\n",
       " [3, 1, 3, 2],\n",
       " [3, 2, 1, 3],\n",
       " [3, 2, 3, 1],\n",
       " [3, 3, 1, 2],\n",
       " [3, 3, 2, 1]]"
      ]
     },
     "execution_count": 2,
     "metadata": {},
     "output_type": "execute_result"
    }
   ],
   "source": [
    "permute([1,2,3,3])"
   ]
  },
  {
   "cell_type": "markdown",
   "id": "transparent-working",
   "metadata": {},
   "source": [
    "### 求从n个数组任意选取一个元素的所有组合"
   ]
  },
  {
   "cell_type": "code",
   "execution_count": 1,
   "id": "maritime-lewis",
   "metadata": {},
   "outputs": [],
   "source": [
    "arr = [['1', '3', '4'],[\"haha\"], ['9', '0'], ['2', '5'], ['6', '7']]"
   ]
  },
  {
   "cell_type": "code",
   "execution_count": 2,
   "id": "upper-consortium",
   "metadata": {},
   "outputs": [],
   "source": [
    "def select_one_item(arr):\n",
    "    if len(arr) == 1:\n",
    "        return arr[0]\n",
    "    \n",
    "    # 不断合并的前两个 \n",
    "    tmp_arr = []\n",
    "    for i in range(len(arr[0])):\n",
    "        for j in range(len(arr[1])):\n",
    "#             tmp_arr.append([arr[0][i], arr[1][j]])\n",
    "            tmp_arr.append(arr[0][i] + \",\" + arr[1][j])\n",
    "    \n",
    "    # 将合并后的tmp_arr 插入到原始数组中\n",
    "    new_arr = arr[2:]\n",
    "    new_arr.insert(0, tmp_arr)\n",
    "    # 不断递归执行产出结果\n",
    "    return select_one_item(new_arr)"
   ]
  },
  {
   "cell_type": "code",
   "execution_count": 3,
   "id": "prescribed-force",
   "metadata": {},
   "outputs": [
    {
     "data": {
      "text/plain": [
       "['1,haha,9,2,6',\n",
       " '1,haha,9,2,7',\n",
       " '1,haha,9,5,6',\n",
       " '1,haha,9,5,7',\n",
       " '1,haha,0,2,6',\n",
       " '1,haha,0,2,7',\n",
       " '1,haha,0,5,6',\n",
       " '1,haha,0,5,7',\n",
       " '3,haha,9,2,6',\n",
       " '3,haha,9,2,7',\n",
       " '3,haha,9,5,6',\n",
       " '3,haha,9,5,7',\n",
       " '3,haha,0,2,6',\n",
       " '3,haha,0,2,7',\n",
       " '3,haha,0,5,6',\n",
       " '3,haha,0,5,7',\n",
       " '4,haha,9,2,6',\n",
       " '4,haha,9,2,7',\n",
       " '4,haha,9,5,6',\n",
       " '4,haha,9,5,7',\n",
       " '4,haha,0,2,6',\n",
       " '4,haha,0,2,7',\n",
       " '4,haha,0,5,6',\n",
       " '4,haha,0,5,7']"
      ]
     },
     "execution_count": 3,
     "metadata": {},
     "output_type": "execute_result"
    }
   ],
   "source": [
    "select_one_item(arr)"
   ]
  },
  {
   "cell_type": "code",
   "execution_count": 44,
   "id": "positive-initial",
   "metadata": {},
   "outputs": [],
   "source": [
    "def do_exchange(arr):\n",
    "    length = len(arr)\n",
    "    \n",
    "    # 如果数组长度大于两个的时候\n",
    "    if length >= 2:\n",
    "        \n",
    "        # 现将两个数组进行融合（逐一合并）\n",
    "        tmp_arr = []\n",
    "        \n",
    "        for i in range(len(arr[0])):\n",
    "            for j in range(len(arr[1])):\n",
    "                tmp_arr.append([arr[0][i], arr[1][j]])\n",
    "            \n",
    "        print(\"tmp_arr\", tmp_arr)\n",
    "        \n",
    "        \n",
    "        new_arr = arr[2:]\n",
    "        # 新组合的数组合并到原数组中\n",
    "        \n",
    "        new_arr.insert(0, tmp_arr)\n",
    "        \n",
    "        return do_exchange(new_arr)\n",
    "    \n",
    "    else:\n",
    "        return arr[0]\n",
    "        "
   ]
  },
  {
   "cell_type": "code",
   "execution_count": 6,
   "id": "accessible-integral",
   "metadata": {},
   "outputs": [],
   "source": [
    "def function(str1):\n",
    "    stack = [str1[0]]\n",
    "    for i in range(1, len(str1)):\n",
    "        if str1[i] != 'c' :\n",
    "            stack.append(str1[i])\n",
    "        elif stack[-1] != 'a':\n",
    "            stack.append(str1[i])\n",
    "        else:\n",
    "            stack.pop(-1)\n",
    "    return \"\".join(stack)"
   ]
  },
  {
   "cell_type": "code",
   "execution_count": 7,
   "id": "endangered-tablet",
   "metadata": {},
   "outputs": [
    {
     "data": {
      "text/plain": [
       "'abc'"
      ]
     },
     "execution_count": 7,
     "metadata": {},
     "output_type": "execute_result"
    }
   ],
   "source": [
    "function(\"abcacaacc\")"
   ]
  },
  {
   "cell_type": "code",
   "execution_count": 8,
   "id": "daily-round",
   "metadata": {},
   "outputs": [
    {
     "data": {
      "text/plain": [
       "'abc'"
      ]
     },
     "execution_count": 8,
     "metadata": {},
     "output_type": "execute_result"
    }
   ],
   "source": [
    "function(\"abcac\")"
   ]
  },
  {
   "cell_type": "code",
   "execution_count": 9,
   "id": "judicial-airfare",
   "metadata": {},
   "outputs": [
    {
     "data": {
      "text/plain": [
       "'aaa'"
      ]
     },
     "execution_count": 9,
     "metadata": {},
     "output_type": "execute_result"
    }
   ],
   "source": [
    "function(\"acaaaacac\")"
   ]
  },
  {
   "cell_type": "code",
   "execution_count": 1,
   "id": "seeing-south",
   "metadata": {},
   "outputs": [],
   "source": [
    "def permute(nums):\n",
    "    res = []\n",
    "    \n",
    "    if len(nums) == 1:\n",
    "        return [nums]\n",
    "    \n",
    "    for i, item in enumerate(nums):\n",
    "        res_nums = nums[:i] + nums[i+1:]\n",
    "        \n",
    "        for sub_list in permute(res_nums):\n",
    "            res.append([item] + sub_list)\n",
    "    return res"
   ]
  },
  {
   "cell_type": "code",
   "execution_count": 2,
   "id": "threatened-anniversary",
   "metadata": {},
   "outputs": [
    {
     "data": {
      "text/plain": [
       "[[1, 3, 5], [1, 5, 3], [3, 1, 5], [3, 5, 1], [5, 1, 3], [5, 3, 1]]"
      ]
     },
     "execution_count": 2,
     "metadata": {},
     "output_type": "execute_result"
    }
   ],
   "source": [
    "permute([1, 3, 5])"
   ]
  },
  {
   "cell_type": "code",
   "execution_count": null,
   "id": "subtle-hurricane",
   "metadata": {},
   "outputs": [],
   "source": []
  }
 ],
 "metadata": {
  "kernelspec": {
   "display_name": "Python 3",
   "language": "python",
   "name": "python3"
  },
  "language_info": {
   "codemirror_mode": {
    "name": "ipython",
    "version": 3
   },
   "file_extension": ".py",
   "mimetype": "text/x-python",
   "name": "python",
   "nbconvert_exporter": "python",
   "pygments_lexer": "ipython3",
   "version": "3.9.2"
  },
  "toc": {
   "base_numbering": 1,
   "nav_menu": {},
   "number_sections": true,
   "sideBar": true,
   "skip_h1_title": false,
   "title_cell": "Table of Contents",
   "title_sidebar": "Contents",
   "toc_cell": false,
   "toc_position": {},
   "toc_section_display": true,
   "toc_window_display": false
  }
 },
 "nbformat": 4,
 "nbformat_minor": 5
}
