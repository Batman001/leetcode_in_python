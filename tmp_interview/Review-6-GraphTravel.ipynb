{
 "cells": [
  {
   "cell_type": "code",
   "execution_count": 1,
   "id": "young-clear",
   "metadata": {},
   "outputs": [],
   "source": [
    "graph = {\n",
    "        \"A\": [\"B\", \"C\"],\n",
    "        \"B\": [\"A\", \"C\", \"D\"],\n",
    "        \"C\": [\"A\", \"B\", \"D\", \"E\"],\n",
    "        \"D\": [\"B\", \"C\", \"E\", \"F\"],\n",
    "        \"E\": [\"C\", \"D\"],\n",
    "        \"F\": [\"D\"]\n",
    "    }"
   ]
  },
  {
   "cell_type": "markdown",
   "id": "vulnerable-cover",
   "metadata": {},
   "source": [
    "### BFS 图的广搜"
   ]
  },
  {
   "cell_type": "code",
   "execution_count": 2,
   "id": "consolidated-prescription",
   "metadata": {},
   "outputs": [],
   "source": [
    "# 图的广度遍历\n",
    "def bfs(graph, s):\n",
    "    queue = [s]\n",
    "    \n",
    "    seen = set()\n",
    "    seen.add(s)\n",
    "    \n",
    "    parent = {s: None}\n",
    "    \n",
    "    while len(queue) > 0:\n",
    "        vertex = queue.pop(0)\n",
    "        nodes = graph[vertex]\n",
    "        for node in nodes:\n",
    "            if node not in seen:\n",
    "                queue.append(node)\n",
    "                seen.add(node)\n",
    "                parent[node] = vertex\n",
    "        print(vertex)\n",
    "    \n",
    "    return parent\n",
    "    "
   ]
  },
  {
   "cell_type": "markdown",
   "id": "premier-labor",
   "metadata": {},
   "source": [
    "### DFS 图的深搜"
   ]
  },
  {
   "cell_type": "code",
   "execution_count": 3,
   "id": "nuclear-forest",
   "metadata": {},
   "outputs": [],
   "source": [
    "def dfs(graph, s):\n",
    "    stack = [s]\n",
    "    \n",
    "    seen = set(s)\n",
    "    parent = {s: None}\n",
    "    while len(stack) > 0:\n",
    "        vertex = stack.pop()\n",
    "        nodes = graph[vertex]\n",
    "        \n",
    "        for node in nodes:\n",
    "            if node not in seen:\n",
    "                stack.append(node)\n",
    "                seen.add(node)\n",
    "                parent[node] = vertex\n",
    "        print(vertex)\n",
    "    return parent"
   ]
  },
  {
   "cell_type": "code",
   "execution_count": 4,
   "id": "accomplished-reduction",
   "metadata": {},
   "outputs": [
    {
     "name": "stdout",
     "output_type": "stream",
     "text": [
      "A\n",
      "B\n",
      "C\n",
      "D\n",
      "E\n",
      "F\n"
     ]
    },
    {
     "data": {
      "text/plain": [
       "{'A': None, 'B': 'A', 'C': 'A', 'D': 'B', 'E': 'C', 'F': 'D'}"
      ]
     },
     "execution_count": 4,
     "metadata": {},
     "output_type": "execute_result"
    }
   ],
   "source": [
    "# 图的广度搜索\n",
    "bfs(graph, \"A\")"
   ]
  },
  {
   "cell_type": "code",
   "execution_count": 5,
   "id": "viral-sherman",
   "metadata": {},
   "outputs": [
    {
     "name": "stdout",
     "output_type": "stream",
     "text": [
      "A\n",
      "C\n",
      "E\n",
      "D\n",
      "F\n",
      "B\n"
     ]
    },
    {
     "data": {
      "text/plain": [
       "{'A': None, 'B': 'A', 'C': 'A', 'D': 'C', 'E': 'C', 'F': 'D'}"
      ]
     },
     "execution_count": 5,
     "metadata": {},
     "output_type": "execute_result"
    }
   ],
   "source": [
    "# 图的深度搜索\n",
    "dfs(graph, \"A\")"
   ]
  },
  {
   "cell_type": "markdown",
   "id": "tired-breath",
   "metadata": {},
   "source": [
    "### dijkstra algorithm"
   ]
  },
  {
   "cell_type": "code",
   "execution_count": 6,
   "id": "boolean-mississippi",
   "metadata": {},
   "outputs": [],
   "source": [
    "import heapq\n",
    "import math"
   ]
  },
  {
   "cell_type": "code",
   "execution_count": 7,
   "id": "liked-genome",
   "metadata": {},
   "outputs": [],
   "source": [
    "def init_instance(graph, s):\n",
    "    distance = {s: 0}\n",
    "    for vertex in graph.keys():\n",
    "        if vertex != s:\n",
    "            distance[vertex] = math.inf\n",
    "            \n",
    "    return distance"
   ]
  },
  {
   "cell_type": "code",
   "execution_count": 8,
   "id": "alternate-pledge",
   "metadata": {},
   "outputs": [],
   "source": [
    "# 输出结果为 从s节点开始 到其中任何一个节点的最短距离\n",
    "def dijkstra(graph, s):\n",
    "    pqueue = []\n",
    "    heapq.heappush(pqueue, (0, s))\n",
    "    \n",
    "    seen = set()\n",
    "    \n",
    "    distance = init_instance(graph, s)\n",
    "    \n",
    "    parent = {s: None}\n",
    "    \n",
    "    while len(pqueue) > 0:\n",
    "        # 通过堆结构 pop出 队列中 距离最小的节点\n",
    "        pair = heapq.heappop(pqueue)\n",
    "        dist = pair[0]\n",
    "        vertex = pair[1]\n",
    "        seen.add(vertex)\n",
    "        \n",
    "        nodes = graph[vertex].keys()\n",
    "        \n",
    "        for node in nodes:\n",
    "            if node not in seen:\n",
    "                if dist + graph[vertex][node] < distance[node]:\n",
    "                    heapq.heappush(pqueue, (dist + graph[vertex][node], node))\n",
    "                    parent[node] = vertex\n",
    "                    distance[node] = dist + graph[vertex][node]\n",
    "        \n",
    "        print(vertex)\n",
    "        \n",
    "    return parent, distance"
   ]
  },
  {
   "cell_type": "code",
   "execution_count": 9,
   "id": "prescription-donna",
   "metadata": {},
   "outputs": [],
   "source": [
    "# 初始化distance，如果非当前节点的话，置为inf\n",
    "def init_instance(graph, s):\n",
    "    distance = {s: 0}\n",
    "    for vertex in graph.keys():\n",
    "        if vertex != s:\n",
    "            distance[vertex] = math.inf\n",
    "    return distance"
   ]
  },
  {
   "cell_type": "code",
   "execution_count": 10,
   "id": "least-degree",
   "metadata": {},
   "outputs": [],
   "source": [
    "def BFS(graph, s):\n",
    "    queue = [s]\n",
    "    seen = set(s)\n",
    "    parent = {s: None}\n",
    "    \n",
    "    while len(queue) > 0:\n",
    "        vertex = queue.pop(0)\n",
    "        \n",
    "        nodes = graph[vertex]\n",
    "        for node in nodes:\n",
    "            if node not in seen:\n",
    "                seen.add(node)\n",
    "                parent[node] = vertex\n",
    "                queue.append(node)\n",
    "    return parent"
   ]
  },
  {
   "cell_type": "code",
   "execution_count": 11,
   "id": "complimentary-fancy",
   "metadata": {},
   "outputs": [
    {
     "data": {
      "text/plain": [
       "{'A': None, 'B': 'A', 'C': 'A', 'D': 'B', 'E': 'C', 'F': 'D'}"
      ]
     },
     "execution_count": 11,
     "metadata": {},
     "output_type": "execute_result"
    }
   ],
   "source": [
    "BFS(graph, \"A\")"
   ]
  },
  {
   "cell_type": "code",
   "execution_count": 14,
   "id": "proved-pricing",
   "metadata": {},
   "outputs": [],
   "source": [
    "def cal_short_distance(graph, s, end_vertex):\n",
    "    parent = BFS(graph, s)\n",
    "    \n",
    "    while end_vertex is not None:\n",
    "        print(end_vertex)\n",
    "        end_vertex = parent[end_vertex]"
   ]
  },
  {
   "cell_type": "code",
   "execution_count": 15,
   "id": "future-waters",
   "metadata": {},
   "outputs": [
    {
     "name": "stdout",
     "output_type": "stream",
     "text": [
      "F\n",
      "D\n",
      "B\n",
      "A\n"
     ]
    }
   ],
   "source": [
    "cal_short_distance(graph, \"A\", \"F\")"
   ]
  },
  {
   "cell_type": "code",
   "execution_count": 17,
   "id": "shared-thirty",
   "metadata": {},
   "outputs": [],
   "source": [
    "# 输出图中 s节点到所有非s节点的最短路径\n",
    "def dijkstra(graph, s):\n",
    "    pqueue = []\n",
    "    heapq.heappush(pqueue, (0, s))\n",
    "    \n",
    "    seen = set()\n",
    "    \n",
    "    distance = init_instance(graph, s)\n",
    "    \n",
    "    parent = {s: None}\n",
    "    \n",
    "    while len(pqueue) > 0:\n",
    "        pair = heapq.heappop(pqueue)\n",
    "        dist = pair[0]\n",
    "        vertex = pair[1]\n",
    "        seen.add(vertex)\n",
    "        \n",
    "        nodes = graph[vertex].keys()\n",
    "        for node in nodes:\n",
    "            if node not in seen:\n",
    "                if dist + graph[vertex][node] < distance[node]:\n",
    "                    heapq.heappush(pqueue, (dist + graph[vertex][node], node))\n",
    "                    parent[node] = vertex\n",
    "                    distance[node] = dist + graph[vertex][node]\n",
    "        print(vertex)\n",
    "    \n",
    "    return parent, distance"
   ]
  },
  {
   "cell_type": "code",
   "execution_count": 18,
   "id": "approved-canon",
   "metadata": {},
   "outputs": [
    {
     "name": "stdout",
     "output_type": "stream",
     "text": [
      "A\n",
      "C\n",
      "B\n",
      "D\n",
      "B\n",
      "D\n",
      "E\n",
      "E\n",
      "F\n",
      "{'A': None, 'B': 'C', 'C': 'A', 'D': 'B', 'E': 'D', 'F': 'D'}\n",
      "从A节点开始，到其余节点的最短距离为：  {'A': 0, 'B': 3, 'C': 1, 'D': 4, 'E': 7, 'F': 10}\n"
     ]
    }
   ],
   "source": [
    "graph = {\n",
    "        \"A\": {\"B\": 5, \"C\": 1},\n",
    "        \"B\": {\"A\": 5, \"C\": 2, \"D\": 1},\n",
    "        \"C\": {\"A\": 1, \"B\": 2, \"D\": 4, \"E\": 8},\n",
    "        \"D\": {\"B\": 1, \"C\": 4, \"E\": 3, \"F\": 6},\n",
    "        \"E\": {\"C\": 8, \"D\": 3},\n",
    "        \"F\": {\"D\": 6}\n",
    "    }\n",
    "parent, distance = dijkstra(graph, \"A\")\n",
    "print(parent)\n",
    "print(\"从A节点开始，到其余节点的最短距离为： \", distance)"
   ]
  },
  {
   "cell_type": "code",
   "execution_count": null,
   "id": "cellular-premises",
   "metadata": {},
   "outputs": [],
   "source": []
  }
 ],
 "metadata": {
  "kernelspec": {
   "display_name": "Python 3",
   "language": "python",
   "name": "python3"
  },
  "language_info": {
   "codemirror_mode": {
    "name": "ipython",
    "version": 3
   },
   "file_extension": ".py",
   "mimetype": "text/x-python",
   "name": "python",
   "nbconvert_exporter": "python",
   "pygments_lexer": "ipython3",
   "version": "3.9.2"
  },
  "toc": {
   "base_numbering": 1,
   "nav_menu": {},
   "number_sections": true,
   "sideBar": true,
   "skip_h1_title": false,
   "title_cell": "Table of Contents",
   "title_sidebar": "Contents",
   "toc_cell": false,
   "toc_position": {},
   "toc_section_display": true,
   "toc_window_display": true
  }
 },
 "nbformat": 4,
 "nbformat_minor": 5
}
