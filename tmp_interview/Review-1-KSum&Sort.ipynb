{
 "cells": [
  {
   "cell_type": "markdown",
   "id": "hispanic-brook",
   "metadata": {},
   "source": [
    "### K-Sum问题"
   ]
  },
  {
   "cell_type": "code",
   "execution_count": 1,
   "id": "typical-group",
   "metadata": {},
   "outputs": [],
   "source": [
    "import random"
   ]
  },
  {
   "cell_type": "code",
   "execution_count": 2,
   "id": "departmental-merchandise",
   "metadata": {},
   "outputs": [],
   "source": [
    "def two_sum(nums, target):\n",
    "    nums.sort()\n",
    "    result = []\n",
    "    \n",
    "    left = 0\n",
    "    right = len(nums) -1 \n",
    "    while left < right:\n",
    "        tmp_sum = nums[left] + nums[right]\n",
    "        if tmp_sum == target:\n",
    "            result.append([nums[left], nums[right]])\n",
    "            \n",
    "            while left < right and nums[left] == nums[left+1]:\n",
    "                left += 1\n",
    "            \n",
    "            while left < right and nums[right] == nums[right-1]:\n",
    "                right -= 1\n",
    "            \n",
    "            left += 1\n",
    "            right -= 1\n",
    "        \n",
    "        elif tmp_sum < target:\n",
    "            left += 1\n",
    "        else:\n",
    "            right -= 1"
   ]
  },
  {
   "cell_type": "code",
   "execution_count": 2,
   "id": "choice-breath",
   "metadata": {},
   "outputs": [],
   "source": [
    "def three_sum(nums, target):\n",
    "    nums.sort()\n",
    "    result = []\n",
    "    \n",
    "    for i in range(len(nums) - 2):\n",
    "        first_num = nums[i]\n",
    "        \n",
    "        # 跳过first_num重复的情形\n",
    "        if i==0 or first_num != nums[i-1]:\n",
    "            left = i + 1\n",
    "            right = len(nums) - 1\n",
    "            \n",
    "            two_sum_target = target - first_num\n",
    "            \n",
    "            # while循环遍历全部数据\n",
    "            while left < right:\n",
    "                two_sum_tmp = nums[left] + nums[right]\n",
    "                \n",
    "                if two_sum_tmp == two_sum_target:\n",
    "                    result.append([first_num, nums[left], nums[right]])\n",
    "                    \n",
    "                    # 跳过匹配成功情况下 重复值情形\n",
    "                    while left < right and nums[left] == nums[left+1]:\n",
    "                        left += 1\n",
    "                    \n",
    "                    while left < right and nums[right] == nums[right - 1]:\n",
    "                        right -= 1\n",
    "                        \n",
    "                    left += 1\n",
    "                    right -= 1\n",
    "                \n",
    "                elif two_sum_tmp < two_sum_target:\n",
    "                    left += 1\n",
    "                else:\n",
    "                    right -=1\n",
    "    \n",
    "    return result"
   ]
  },
  {
   "cell_type": "code",
   "execution_count": 3,
   "id": "criminal-effects",
   "metadata": {},
   "outputs": [
    {
     "name": "stdout",
     "output_type": "stream",
     "text": [
      "[[-1, -1, 2], [-1, 0, 1]]\n"
     ]
    }
   ],
   "source": [
    "nums = [-1, 0, 1, 2, -1, 4]\n",
    "target = 0\n",
    "print(three_sum(nums, target))"
   ]
  },
  {
   "cell_type": "markdown",
   "id": "senior-peripheral",
   "metadata": {},
   "source": [
    "### 排序"
   ]
  },
  {
   "cell_type": "markdown",
   "id": "african-jefferson",
   "metadata": {},
   "source": [
    "#### 快排"
   ]
  },
  {
   "cell_type": "code",
   "execution_count": 5,
   "id": "united-stamp",
   "metadata": {},
   "outputs": [],
   "source": [
    "def quick_sort(nums, left, right):\n",
    "    if left < right:\n",
    "        middle_index = get_middle_index(nums, left, right)\n",
    "        quick_sort(nums, left, middle_index-1)\n",
    "        quick_sort(nums, middle_index+1, right)"
   ]
  },
  {
   "cell_type": "code",
   "execution_count": 10,
   "id": "above-slave",
   "metadata": {},
   "outputs": [],
   "source": [
    "def get_middle_index(nums, left, right):\n",
    "    \n",
    "    pivot = nums[left]\n",
    "    \n",
    "    while left < right:\n",
    "        while left < right and nums[right] > pivot:\n",
    "            right -= 1\n",
    "        \n",
    "        nums[left] = nums[right]\n",
    "    \n",
    "        while left < right and nums[left] < pivot:\n",
    "            left += 1\n",
    "    \n",
    "        nums[right] = nums[left]\n",
    "    \n",
    "    nums[left] = pivot\n",
    "    \n",
    "    return left"
   ]
  },
  {
   "cell_type": "code",
   "execution_count": 11,
   "id": "supposed-joining",
   "metadata": {},
   "outputs": [
    {
     "name": "stdout",
     "output_type": "stream",
     "text": [
      "[-123, -5, 0, 1, 2, 3, 6, 8, 62, 90, 234, 345]\n"
     ]
    }
   ],
   "source": [
    "arr = [1, 6, 3, 0, -5, -123, 90, 345, 234, 62, 2, 8]\n",
    "quick_sort(arr, 0, len(arr) - 1)\n",
    "print(arr)"
   ]
  },
  {
   "cell_type": "markdown",
   "id": "fatal-budget",
   "metadata": {},
   "source": [
    "#### 小根堆排序"
   ]
  },
  {
   "cell_type": "code",
   "execution_count": 6,
   "id": "leading-dublin",
   "metadata": {},
   "outputs": [],
   "source": [
    "# 最小堆排序 小根堆：父节点的小于子节点大小\n",
    "def build_heap(nums):\n",
    "    size = len(nums)\n",
    "    \n",
    "    for i in range(size // 2 - 1, -1, -1):\n",
    "        adjust_heap(nums, i)\n",
    "    \n",
    "    return nums\n",
    "\n",
    "        \n",
    "def adjust_heap(nums, index):\n",
    "    left_index = index * 2 + 1\n",
    "    right_index = index * 2 + 2\n",
    "    length = len(nums)\n",
    "    \n",
    "    # 交换nums的位置\n",
    "    if left_index < length and nums[left_index] < nums[index]:\n",
    "        smallest = left_index\n",
    "    else:\n",
    "        smallest = index\n",
    "    \n",
    "    if right_index < length and nums[right_index] < nums[smallest]:\n",
    "        smallest = right_index\n",
    "    \n",
    "    if smallest == index or smallest >= length:\n",
    "        return \n",
    "    \n",
    "    nums[index], nums[smallest] = nums[smallest], nums[index]\n",
    "    adjust_heap(nums, smallest)\n",
    "        \n",
    "    \n",
    "def heap_sort(nums):\n",
    "    sorted_nums = []\n",
    "    # 由于堆顶元素最小，不断将堆顶元素 与 最后一个元素交换，不断打印输出堆顶元素，然后动态调整堆\n",
    "    for i in range(len(nums)):\n",
    "        length = len(nums)\n",
    "        nums[0], nums[length-1] = nums[length-1], nums[0]\n",
    "        sorted_nums.append(nums.pop())\n",
    "        adjust_heap(nums, 0)\n",
    "        \n",
    "    return sorted_nums"
   ]
  },
  {
   "cell_type": "code",
   "execution_count": 7,
   "id": "moral-pakistan",
   "metadata": {},
   "outputs": [
    {
     "name": "stdout",
     "output_type": "stream",
     "text": [
      "[-4, 9, 3, 20, 34, 5, 8, 89]\n",
      "[-4, 3, 5, 8, 9, 20, 34, 89]\n"
     ]
    }
   ],
   "source": [
    "heap = [3, 9, 5, 20, 34, -4, 8, 89]\n",
    "heap = build_heap(heap)\n",
    "print(heap)\n",
    "\n",
    "sort_result = heap_sort(heap)\n",
    "print(sort_result)"
   ]
  },
  {
   "cell_type": "markdown",
   "id": "committed-vulnerability",
   "metadata": {},
   "source": [
    "#### 大根堆排序"
   ]
  },
  {
   "cell_type": "code",
   "execution_count": 8,
   "id": "organizational-jacob",
   "metadata": {},
   "outputs": [],
   "source": [
    "# 大根堆 根结点的值要大于左右子节点\n",
    "\n",
    "def heap_sort(nums):\n",
    "    sorted_res = []\n",
    "    \n",
    "    # 不断的把根节点的大值元素 放置到最后，然后动态调整堆顶元素\n",
    "    for i in range(len(nums)):\n",
    "        length = len(nums)\n",
    "        nums[0], nums[length-1] = nums[length-1], nums[0]\n",
    "        sorted_res.append(nums.pop())\n",
    "        maxify_heap(nums, 0)\n",
    "    \n",
    "    return sorted_res\n",
    "\n",
    "\n",
    "def build_heap(nums):\n",
    "    size = len(nums)\n",
    "    \n",
    "    # 建堆过程，一直从最后一个根节点 到 最初的 根结点截止\n",
    "    for i in range(size // 2 - 1, -1, -1):\n",
    "        maxify_heap(nums, i)\n",
    "    return nums\n",
    "\n",
    "# 动态调整根结点和其子节点的大小，保证每一个子树满足大根堆的设置\n",
    "def maxify_heap(nums, index):\n",
    "    \n",
    "    left = index * 2 + 1\n",
    "    right = index * 2 + 2\n",
    "    length = len(nums)\n",
    "    \n",
    "    max_index = index\n",
    "    \n",
    "    if left < length and nums[left] > nums[index]:\n",
    "        max_index = left\n",
    "    \n",
    "    if right < length and nums[right] > nums[max_index]:\n",
    "        max_index = right\n",
    "    \n",
    "    if max_index != index:\n",
    "        nums[max_index], nums[index] = nums[index], nums[max_index]\n",
    "        maxify_heap(nums, max_index)\n",
    "    \n",
    "    "
   ]
  },
  {
   "cell_type": "code",
   "execution_count": 9,
   "id": "sexual-uganda",
   "metadata": {},
   "outputs": [
    {
     "name": "stdout",
     "output_type": "stream",
     "text": [
      "[89, 34, 8, 20, 3, -4, 5, 9]\n",
      "[89, 34, 20, 9, 8, 5, 3, -4]\n"
     ]
    }
   ],
   "source": [
    "heap = [3, 9, 5, 20, 34, -4, 8, 89]\n",
    "heap = build_heap(heap)\n",
    "print(heap)\n",
    "\n",
    "sort_result = heap_sort(heap)\n",
    "print(sort_result)"
   ]
  },
  {
   "cell_type": "markdown",
   "id": "modified-entertainment",
   "metadata": {},
   "source": [
    "#### 选择排序"
   ]
  },
  {
   "cell_type": "code",
   "execution_count": 10,
   "id": "unique-catholic",
   "metadata": {},
   "outputs": [],
   "source": [
    "def select_sort(nums):\n",
    "    # 选择排序 时间复杂度 o(n^2)\n",
    "    size = len(nums)\n",
    "    for i in range(len(nums)):\n",
    "        min_index = i\n",
    "        for j in range(i+1, len(nums)):\n",
    "            if nums[j] < nums[min_index]:\n",
    "                min_index = j\n",
    "        nums[i], nums[min_index] = nums[min_index], nums[i]\n",
    "    \n",
    "    return nums\n",
    "    "
   ]
  },
  {
   "cell_type": "code",
   "execution_count": 11,
   "id": "wireless-sessions",
   "metadata": {},
   "outputs": [
    {
     "data": {
      "text/plain": [
       "[-4, 3, 5, 8, 9, 20, 34, 89]"
      ]
     },
     "execution_count": 11,
     "metadata": {},
     "output_type": "execute_result"
    }
   ],
   "source": [
    "nums = [3, 9, 5, 20, 34, -4, 8, 89]\n",
    "select_sort(nums)"
   ]
  },
  {
   "cell_type": "markdown",
   "id": "motivated-format",
   "metadata": {},
   "source": [
    "#### 插入排序"
   ]
  },
  {
   "cell_type": "code",
   "execution_count": 12,
   "id": "framed-mixture",
   "metadata": {},
   "outputs": [],
   "source": [
    "def insert_sort(array):\n",
    "    \n",
    "    for i in range(1, len(array)):\n",
    "        key = array[i]\n",
    "        \n",
    "        j = i-1\n",
    "        \n",
    "        # 不断向后寻找 安排key的位置\n",
    "        while j >= 0 and key < nums[j]:\n",
    "            # 相当于向后移动一个元素\n",
    "            nums[j+1] = nums[j]\n",
    "            j -= 1\n",
    "            \n",
    "        # 循环停止后，将key的位置 置于 j+1 索引处\n",
    "        array[j+1] = key\n",
    "    return array"
   ]
  },
  {
   "cell_type": "code",
   "execution_count": 13,
   "id": "manufactured-montana",
   "metadata": {},
   "outputs": [
    {
     "data": {
      "text/plain": [
       "[-4, 3, 5, 8, 9, 20, 34, 89]"
      ]
     },
     "execution_count": 13,
     "metadata": {},
     "output_type": "execute_result"
    }
   ],
   "source": [
    "nums = [3, 9, 5, 20, 34, -4, 8, 89]\n",
    "insert_sort(nums)"
   ]
  },
  {
   "cell_type": "markdown",
   "id": "indonesian-marine",
   "metadata": {},
   "source": [
    "### TOP K"
   ]
  },
  {
   "cell_type": "code",
   "execution_count": 1,
   "id": "relevant-thunder",
   "metadata": {},
   "outputs": [],
   "source": [
    "# 构建小顶堆（根结点元素小于父节点） 不断遍历后面的元素，保留TopK元素\n",
    "def build_heap(array, k):\n",
    "    select_array = array[:k]\n",
    "    # 从最后一个根结点开始 动态调整建堆\n",
    "    for i in range(len(select_array) // 2 - 1, -1, -1):\n",
    "        adjust_heap(select_array, i)\n",
    "    \n",
    "    return select_array\n",
    "\n",
    "# 动态调整堆的第index的索引位置，使其满足小顶推\n",
    "def adjust_heap(array, index):\n",
    "    # index 索引为根结点\n",
    "    min_index = index\n",
    "    # 左子树索引\n",
    "    left = index * 2 + 1\n",
    "    # 右子树索引\n",
    "    right = index * 2 + 2\n",
    "    length = len(array)\n",
    "    \n",
    "    if left < length and array[left] < array[index]:\n",
    "        min_index = left\n",
    "    \n",
    "    if right < length and array[right] < array[min_index]:\n",
    "        min_index = right\n",
    "    \n",
    "    if min_index != index:\n",
    "        array[index], array[min_index] = array[min_index], array[index]\n",
    "        adjust_heap(array, min_index)\n",
    "\n",
    "# 对小顶推进行遍历，输出排好序的数组\n",
    "def heap_sort(nums):\n",
    "    sorted_res = []\n",
    "    \n",
    "    # 不断的把根节点的大值元素 放置到最后，然后动态调整堆顶元素\n",
    "    for i in range(len(nums)):\n",
    "        length = len(nums)\n",
    "        nums[0], nums[length-1] = nums[length-1], nums[0]\n",
    "        sorted_res.append(nums.pop(-1))\n",
    "        adjust_heap(nums, 0)\n",
    "    \n",
    "    return sorted_res\n",
    "        \n",
    "        \n",
    "\n",
    "def get_top_k(array, k):\n",
    "    k_heap = build_heap(array, k)\n",
    "    \n",
    "    for i in range(k, len(array)):\n",
    "        if array[i] > k_heap[0]:\n",
    "            k_heap[0] = array[i]\n",
    "            adjust_heap(k_heap, 0)\n",
    "    sorted_heap = heap_sort(k_heap)\n",
    "    return sorted_heap\n",
    "\n"
   ]
  },
  {
   "cell_type": "code",
   "execution_count": 4,
   "id": "bronze-purpose",
   "metadata": {},
   "outputs": [
    {
     "name": "stdout",
     "output_type": "stream",
     "text": [
      "[4, 5, 5, 6]\n"
     ]
    }
   ],
   "source": [
    "nums = [3,2,3,1,2,4,5,5,6]\n",
    "top3 = get_top_k(nums, 4)\n",
    "print(top3)"
   ]
  },
  {
   "cell_type": "code",
   "execution_count": null,
   "id": "requested-prevention",
   "metadata": {},
   "outputs": [],
   "source": []
  }
 ],
 "metadata": {
  "kernelspec": {
   "display_name": "Python 3",
   "language": "python",
   "name": "python3"
  },
  "language_info": {
   "codemirror_mode": {
    "name": "ipython",
    "version": 3
   },
   "file_extension": ".py",
   "mimetype": "text/x-python",
   "name": "python",
   "nbconvert_exporter": "python",
   "pygments_lexer": "ipython3",
   "version": "3.9.2"
  },
  "toc": {
   "base_numbering": 1,
   "nav_menu": {},
   "number_sections": true,
   "sideBar": true,
   "skip_h1_title": false,
   "title_cell": "Table of Contents",
   "title_sidebar": "Contents",
   "toc_cell": false,
   "toc_position": {},
   "toc_section_display": true,
   "toc_window_display": false
  }
 },
 "nbformat": 4,
 "nbformat_minor": 5
}