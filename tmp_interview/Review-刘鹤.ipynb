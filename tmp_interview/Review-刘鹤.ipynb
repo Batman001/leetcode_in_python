{
 "cells": [
  {
   "cell_type": "markdown",
   "id": "daily-hunger",
   "metadata": {},
   "source": [
    "### leetcode-2：两数相加"
   ]
  },
  {
   "cell_type": "code",
   "execution_count": 1,
   "id": "incredible-exhibition",
   "metadata": {},
   "outputs": [],
   "source": [
    "class ListNode(object):\n",
    "    def __init__(self, x):\n",
    "        self.val = x\n",
    "        self.next = None"
   ]
  },
  {
   "cell_type": "code",
   "execution_count": 2,
   "id": "latest-electricity",
   "metadata": {},
   "outputs": [],
   "source": [
    "def add_two_numbers(l1: ListNode, l2: ListNode) -> ListNode:\n",
    "    dummy_head = ListNode(0)\n",
    "    \n",
    "    curr, carry = dummy_head, 0\n",
    "    \n",
    "    while l1 or l2:\n",
    "        cur_sum = 0\n",
    "        \n",
    "        if l1:\n",
    "            cur_sum += l1.val\n",
    "            l1 = l1.next\n",
    "        \n",
    "        if l2:\n",
    "            cur_sum += l2.val\n",
    "            l2 = l2.next\n",
    "        \n",
    "        cur_sum += carry\n",
    "        carry = cur_sum // 10\n",
    "        curr.next = ListNode(cur_sum % 10)\n",
    "        curr = curr.next\n",
    "    \n",
    "    if carry > 0:\n",
    "        curr.next = ListNode(1)\n",
    "    \n",
    "    return dummy_head.next"
   ]
  },
  {
   "cell_type": "markdown",
   "id": "controversial-suspect",
   "metadata": {},
   "source": [
    "### leetcode-5：最长回文子串"
   ]
  },
  {
   "cell_type": "code",
   "execution_count": null,
   "id": "engaged-increase",
   "metadata": {},
   "outputs": [],
   "source": []
  },
  {
   "cell_type": "markdown",
   "id": "employed-stewart",
   "metadata": {},
   "source": [
    "### leetcode-14：最长公共前缀"
   ]
  },
  {
   "cell_type": "code",
   "execution_count": 1,
   "id": "supreme-basket",
   "metadata": {},
   "outputs": [],
   "source": [
    "def longestCommonPrefix(strs):\n",
    "    result = \"\"\n",
    "    if strs == []:\n",
    "        return result\n",
    "    \n",
    "    result = strs[0]\n",
    "    \n",
    "    for i in range(1, len(strs)):\n",
    "        for j in range(len(result), -1, -1):\n",
    "            if strs[i].startswith(result[:j]):\n",
    "                break\n",
    "            else:\n",
    "                result = result[:j-1]\n",
    "                \n",
    "    return result\n",
    "            "
   ]
  },
  {
   "cell_type": "markdown",
   "id": "nutritional-costa",
   "metadata": {},
   "source": [
    "### leetcode-15：three sum"
   ]
  },
  {
   "cell_type": "code",
   "execution_count": 5,
   "id": "italian-tooth",
   "metadata": {},
   "outputs": [],
   "source": [
    "def three_sum(nums, target):\n",
    "    nums.sort()\n",
    "    res = []\n",
    "    \n",
    "    for i in range(len(nums) - 2):\n",
    "        first_num = nums[i]\n",
    "        \n",
    "        # 避免数出现重复\n",
    "        if i==0 or first_num != nums[i-1]:\n",
    "            left = i + 1\n",
    "            right = len(nums) - 1\n",
    "            \n",
    "            two_sum_target = target-first_num\n",
    "            \n",
    "            while left < right:\n",
    "                two_sum_temp = nums[left] + nums[right]\n",
    "                \n",
    "                if two_sum_temp == two_sum_target:\n",
    "                    res.append([first_num, nums[left], nums[right]])\n",
    "                    \n",
    "                    while left < right and nums[left] == nums[left + 1]:\n",
    "                        left += 1\n",
    "                    \n",
    "                    while left < right and nums[right] == nums[right - 1]:\n",
    "                        right -= 1\n",
    "                    \n",
    "                    left += 1\n",
    "                    right -= 1\n",
    "                elif two_sum_temp < two_sum_target:\n",
    "                    left += 1\n",
    "                else:\n",
    "                    right -=1\n",
    "    return res"
   ]
  },
  {
   "cell_type": "code",
   "execution_count": 6,
   "id": "turned-mills",
   "metadata": {},
   "outputs": [
    {
     "name": "stdout",
     "output_type": "stream",
     "text": [
      "[[-1, -1, 2], [-1, 0, 1]]\n"
     ]
    }
   ],
   "source": [
    "nums = [-1, 0, 1, 2, -1, 4]\n",
    "target = 0\n",
    "print(three_sum(nums, target))"
   ]
  },
  {
   "cell_type": "markdown",
   "id": "verbal-opportunity",
   "metadata": {},
   "source": [
    "### leetcode-19：删除链表的倒数第N个节点"
   ]
  },
  {
   "cell_type": "code",
   "execution_count": 13,
   "id": "ancient-corporation",
   "metadata": {},
   "outputs": [],
   "source": [
    "def removeNthFromEnd(head, n):\n",
    "    \n",
    "    def get_length(head):\n",
    "        length = 0\n",
    "        while head is not None:\n",
    "            head = head.next\n",
    "            length += 1\n",
    "        return length\n",
    "    \n",
    "    length = get_length(head)\n",
    "    \n",
    "    dummy = ListNode(0)\n",
    "    dummy.next = head\n",
    "    \n",
    "    cur = dummy\n",
    "    \n",
    "    for i in range(length-n):\n",
    "        cur = cur.next\n",
    "    \n",
    "    cur.next = cur.next.next\n",
    "    \n",
    "    return dummy.next\n",
    "        "
   ]
  },
  {
   "cell_type": "markdown",
   "id": "thousand-stockholm",
   "metadata": {},
   "source": [
    "### leetcode-20：有效的括号"
   ]
  },
  {
   "cell_type": "code",
   "execution_count": 14,
   "id": "color-departure",
   "metadata": {},
   "outputs": [],
   "source": [
    "def is_valid(s):\n",
    "    couple = [\"()\", \"[]\", \"{}\"]\n",
    "    left_ = [\"(\", \"[\", \"{\"]\n",
    "    \n",
    "    stack = []\n",
    "    \n",
    "    for item in s:\n",
    "        if item in left_:\n",
    "            stack.append(item)\n",
    "        else:\n",
    "            if stack != []:\n",
    "                cur_pop_item = stack.pop()\n",
    "                \n",
    "                if cur_pop_item + item not in couple:\n",
    "                    return False\n",
    "            else:\n",
    "                return False\n",
    "    \n",
    "    if stack == []:\n",
    "        return True\n",
    "    else:\n",
    "        return False"
   ]
  },
  {
   "cell_type": "markdown",
   "id": "refined-party",
   "metadata": {},
   "source": [
    "### leetcode-21:合成两个有序链表"
   ]
  },
  {
   "cell_type": "code",
   "execution_count": 18,
   "id": "chicken-montreal",
   "metadata": {},
   "outputs": [],
   "source": [
    "def merge_two_lists(l1,l2):\n",
    "    dummy = ListNode(0)\n",
    "    cur = dummy\n",
    "    \n",
    "    while l1 and l2:\n",
    "        if l1.val <= l2.val:\n",
    "            cur.next = l1\n",
    "            l1 = l1.next\n",
    "        else:\n",
    "            cur.next = l2\n",
    "            l2 = l2.next\n",
    "        cur = cur.next\n",
    "    \n",
    "    if l1 is not None:\n",
    "        cur.next = l1\n",
    "    else:\n",
    "        cur.next = l2\n",
    "    \n",
    "    return dummy.next"
   ]
  },
  {
   "cell_type": "markdown",
   "id": "proof-dragon",
   "metadata": {},
   "source": [
    "### leetcode-26：删除有序数组中重复项"
   ]
  },
  {
   "cell_type": "code",
   "execution_count": 22,
   "id": "changing-smart",
   "metadata": {},
   "outputs": [],
   "source": [
    "def remove_duplicates(nums):\n",
    "    if nums == []:\n",
    "        return 0\n",
    "    \n",
    "    index = 0\n",
    "    \n",
    "    for i in range(index+1, len(nums)):\n",
    "        if nums[index] == nums[i]:\n",
    "            continue\n",
    "        else:\n",
    "            index += 1\n",
    "            nums[index] = nums[i]\n",
    "    return index + 1"
   ]
  },
  {
   "cell_type": "markdown",
   "id": "headed-little",
   "metadata": {},
   "source": [
    "### leetcode-27：移出元素"
   ]
  },
  {
   "cell_type": "code",
   "execution_count": 26,
   "id": "aggressive-teddy",
   "metadata": {},
   "outputs": [],
   "source": [
    "def remove_element(nums, val):\n",
    "    dup_count = 0\n",
    "    \n",
    "    for i in range(len(nums)):\n",
    "        if nums[i] == val:\n",
    "            dup_count += 1\n",
    "        else:\n",
    "            nums[i-dup_count] = nums[i]\n",
    "    \n",
    "    if dup_count == 0:\n",
    "        nums = nums\n",
    "    else:\n",
    "        nums = nums[:-dup_count]\n",
    "    \n",
    "    print(nums)\n",
    "    return len(nums)"
   ]
  },
  {
   "cell_type": "code",
   "execution_count": 27,
   "id": "mature-vessel",
   "metadata": {
    "scrolled": true
   },
   "outputs": [
    {
     "name": "stdout",
     "output_type": "stream",
     "text": [
      "[2, 2, 9, 8]\n"
     ]
    },
    {
     "data": {
      "text/plain": [
       "4"
      ]
     },
     "execution_count": 27,
     "metadata": {},
     "output_type": "execute_result"
    }
   ],
   "source": [
    "nums = [3, 2, 3, 2, 9, 8, 3]\n",
    "remove_element(nums, 3)"
   ]
  },
  {
   "cell_type": "markdown",
   "id": "intermediate-invasion",
   "metadata": {},
   "source": [
    "### leetcode-33：搜索旋转排序数组"
   ]
  },
  {
   "cell_type": "code",
   "execution_count": 46,
   "id": "wired-botswana",
   "metadata": {},
   "outputs": [],
   "source": [
    "def search(nums, target):\n",
    "    left, right = 0, len(nums) -1\n",
    "    \n",
    "    while left < right:\n",
    "        mid = (left + right) // 2\n",
    "        \n",
    "        if nums[mid] > nums[right]:\n",
    "            left  = mid + 1\n",
    "        else:\n",
    "            right = mid\n",
    "    \n",
    "    pol_index = left\n",
    "    print(\"旋转数组的位置索引为：\", pol_index)\n",
    "    \n",
    "    ans = binary_search(nums[:pol_index], target)\n",
    "    \n",
    "    if ans == -1:\n",
    "        ans = binary_search(nums[pol_index:], target)\n",
    "        \n",
    "        if ans != -1:\n",
    "            ans += pol_index\n",
    "    \n",
    "    return ans\n",
    "\n",
    "\n",
    "def binary_search(nums, target):\n",
    "    left, right = 0, len(nums)-1\n",
    "    \n",
    "    while left <= right:\n",
    "        mid = (left+right) // 2\n",
    "        \n",
    "        if nums[mid] == target:\n",
    "            return mid\n",
    "        elif nums[mid] > target:\n",
    "            right = mid - 1\n",
    "        else:\n",
    "            left = mid + 1\n",
    "    return -1\n",
    "            "
   ]
  },
  {
   "cell_type": "code",
   "execution_count": 48,
   "id": "accessory-enterprise",
   "metadata": {},
   "outputs": [
    {
     "name": "stdout",
     "output_type": "stream",
     "text": [
      "旋转数组的位置索引为： 4\n"
     ]
    },
    {
     "data": {
      "text/plain": [
       "2"
      ]
     },
     "execution_count": 48,
     "metadata": {},
     "output_type": "execute_result"
    }
   ],
   "source": [
    "nums = [4,5,6,7,0,1,2]\n",
    "search(nums, 6)"
   ]
  },
  {
   "cell_type": "markdown",
   "id": "regulated-chart",
   "metadata": {},
   "source": [
    "### leetcode-39：组合总和"
   ]
  },
  {
   "cell_type": "code",
   "execution_count": 66,
   "id": "stable-escape",
   "metadata": {},
   "outputs": [
    {
     "data": {
      "text/plain": [
       "[1, 2, 3, 3, 4, 5]"
      ]
     },
     "execution_count": 66,
     "metadata": {},
     "output_type": "execute_result"
    }
   ],
   "source": [
    "a = [1,2,3]\n",
    "a.extend([3,4,5])\n",
    "a"
   ]
  },
  {
   "cell_type": "markdown",
   "id": "cosmetic-senator",
   "metadata": {},
   "source": [
    "### leetcode-46：全排列"
   ]
  },
  {
   "cell_type": "code",
   "execution_count": 61,
   "id": "colonial-colleague",
   "metadata": {},
   "outputs": [],
   "source": [
    "def permute(nums):\n",
    "    result = []\n",
    "    \n",
    "    if len(nums) == 1:\n",
    "        return [nums]\n",
    "    \n",
    "    for i, num in enumerate(nums):\n",
    "        res_nums = nums[:i] + nums[i+1:]\n",
    "        \n",
    "        for sub_list in permute(res_nums):\n",
    "            result.append([num] + sub_list)\n",
    "    return result"
   ]
  },
  {
   "cell_type": "code",
   "execution_count": 62,
   "id": "genuine-juice",
   "metadata": {},
   "outputs": [
    {
     "data": {
      "text/plain": [
       "[[1, 3, 4], [1, 4, 3], [3, 1, 4], [3, 4, 1], [4, 1, 3], [4, 3, 1]]"
      ]
     },
     "execution_count": 62,
     "metadata": {},
     "output_type": "execute_result"
    }
   ],
   "source": [
    "permute([1,3,4])"
   ]
  },
  {
   "cell_type": "markdown",
   "id": "portuguese-exercise",
   "metadata": {},
   "source": [
    "### leetcode-34 在排序数组中查找元素的第一个和最后一个位置"
   ]
  },
  {
   "cell_type": "code",
   "execution_count": 52,
   "id": "asian-frontier",
   "metadata": {},
   "outputs": [],
   "source": [
    "def searchRange(nums, target):\n",
    "    \n",
    "    left, right = 0, len(nums)-1\n",
    "    \n",
    "    while left <= right:\n",
    "        mid = (left+right) // 2\n",
    "        \n",
    "        if target == nums[mid]:\n",
    "            \n",
    "            left_, right_ = mid, mid\n",
    "            \n",
    "            while left_>0 and target == nums[left_ - 1]:\n",
    "                left_ -= 1\n",
    "            \n",
    "            while right_ < right and target == nums[right_ + 1]:\n",
    "                right_ += 1\n",
    "            \n",
    "            return [left_, right_]\n",
    "            \n",
    "            \n",
    "        elif target > nums[mid]:\n",
    "            left = mid +1\n",
    "        else:\n",
    "            right = mid -1\n",
    "    \n",
    "    return [-1, -1]"
   ]
  },
  {
   "cell_type": "code",
   "execution_count": 53,
   "id": "stretch-christianity",
   "metadata": {},
   "outputs": [
    {
     "data": {
      "text/plain": [
       "[3, 5]"
      ]
     },
     "execution_count": 53,
     "metadata": {},
     "output_type": "execute_result"
    }
   ],
   "source": [
    "nums = [5, 7, 7, 8, 8,8, 10]\n",
    "target = 8\n",
    "searchRange(nums, target)"
   ]
  },
  {
   "cell_type": "markdown",
   "id": "structured-gambling",
   "metadata": {},
   "source": [
    "### leetcode-54：螺旋矩阵"
   ]
  },
  {
   "cell_type": "code",
   "execution_count": 67,
   "id": "velvet-montana",
   "metadata": {},
   "outputs": [],
   "source": [
    "def spiralOrder(matrix):\n",
    "    res, i, j, di, dj = [], 0, 0, 0, 1\n",
    "    if matrix:\n",
    "        for _ in range(len(matrix) * len(matrix[0])):\n",
    "            res.append(matrix[i][j])\n",
    "            matrix[i][j] = None\n",
    "            next_step = matrix[(i + di) % len(matrix)][(j + dj) % len(matrix[0])]\n",
    "            if next_step is None:\n",
    "                di, dj = dj, -di\n",
    "            i += di\n",
    "            j += dj\n",
    "    return res"
   ]
  },
  {
   "cell_type": "code",
   "execution_count": 71,
   "id": "physical-genealogy",
   "metadata": {},
   "outputs": [
    {
     "data": {
      "text/plain": [
       "[1, 2, 3, 6, 9, 8, 7, 4, 5]"
      ]
     },
     "execution_count": 71,
     "metadata": {},
     "output_type": "execute_result"
    }
   ],
   "source": [
    "spiralOrder([[1,2,3],[4,5,6],[7,8,9]])"
   ]
  },
  {
   "cell_type": "markdown",
   "id": "nutritional-spyware",
   "metadata": {},
   "source": [
    "### leetcode-56：合并区间"
   ]
  },
  {
   "cell_type": "code",
   "execution_count": 3,
   "id": "received-static",
   "metadata": {},
   "outputs": [],
   "source": [
    "# Important！！！\n",
    "def merge(intervals):\n",
    "    ans = []\n",
    "    intervals.sort(key=lambda x: x[0])\n",
    "    \n",
    "    # 双指针进行排序\n",
    "    begin, end = intervals[0][0], intervals[0][1]\n",
    "    for i in range(1, len(intervals)):\n",
    "        # 如果第二个数组的初始值小于等于end 并且 第二个数组的end值大于end， 则end指针后移\n",
    "        if intervals[i][0] <= end:\n",
    "            if intervals[i][1] > end:\n",
    "                end = intervals[i][1]\n",
    "        else:\n",
    "            ans.append([begin, end])\n",
    "            begin = intervals[0]\n",
    "            end = intervals[1]\n",
    "    \n",
    "    ans.append([begin, end])\n",
    "    return ans\n",
    "        "
   ]
  },
  {
   "cell_type": "markdown",
   "id": "automated-excellence",
   "metadata": {},
   "source": [
    "### leetcode-61：旋转链表"
   ]
  },
  {
   "cell_type": "code",
   "execution_count": 6,
   "id": "assumed-alexandria",
   "metadata": {},
   "outputs": [],
   "source": [
    "# 输入：head = [1,2,3,4,5], k = 2\n",
    "# 输出：[4,5,1,2,3]\n",
    "def rotateRight(head, k):\n",
    "    length = 1\n",
    "    cur_node = head\n",
    "    while cur_node.next:\n",
    "        length += 1\n",
    "        next_node = cur_node.next\n",
    "        cur_node = next_node\n",
    "        \n",
    "    \n",
    "    # 做成环\n",
    "    cur_node.next = head\n",
    "    \n",
    "    # 继续移动k个位置 到链表应该断裂位置\n",
    "    k = k % length\n",
    "    for i in range(length - k):\n",
    "        next_node = cur_node.next\n",
    "        cur_node = next_node\n",
    "    \n",
    "    # 断开链接\n",
    "    head = cur_node.next\n",
    "    cur_node.next = None\n",
    "    \n",
    "    return head\n",
    "    "
   ]
  },
  {
   "cell_type": "markdown",
   "id": "criminal-sphere",
   "metadata": {},
   "source": [
    "### leetcode-62：不同路径"
   ]
  },
  {
   "cell_type": "code",
   "execution_count": 12,
   "id": "medium-israel",
   "metadata": {},
   "outputs": [],
   "source": [
    "def uniquePaths(m, n):\n",
    "    # 排列组合的方法\n",
    "    if m <= 1 or n <= 1:\n",
    "        return 1\n",
    "    \n",
    "    down = m - 1\n",
    "    right = n - 1\n",
    "    total_move = down + right\n",
    "    min_val = min(down, right)\n",
    "    \n",
    "    count = 1\n",
    "    divide = 1\n",
    "    for i in range(1, min_val+1):\n",
    "        count *= (total_move-i+1)\n",
    "        divide *= i\n",
    "    \n",
    "    return int(count/divide)\n",
    "    \n",
    "\n",
    "def uniqueParhs_(m, n):\n",
    "    if m<=1 or n<=1:\n",
    "        return 1\n",
    "    dp = [[] for _ in range(m)]\n",
    "    dp[0].append(0)\n",
    "    for i in range(1, n):\n",
    "        dp[0].append(1)\n",
    "    \n",
    "    for i in range(1, m):\n",
    "        dp[i].append(1)\n",
    "    \n",
    "    for i in range(1, m):\n",
    "        for j in range(1, n):\n",
    "            dp[i].append(dp[i-1][j] + dp[i][j-1])\n",
    "    return dp[-1][-1]\n",
    "    "
   ]
  },
  {
   "cell_type": "code",
   "execution_count": 14,
   "id": "soviet-isaac",
   "metadata": {},
   "outputs": [
    {
     "data": {
      "text/plain": [
       "28"
      ]
     },
     "execution_count": 14,
     "metadata": {},
     "output_type": "execute_result"
    }
   ],
   "source": [
    "uniquePaths(3, 7)"
   ]
  },
  {
   "cell_type": "code",
   "execution_count": 15,
   "id": "consolidated-hopkins",
   "metadata": {},
   "outputs": [
    {
     "data": {
      "text/plain": [
       "28"
      ]
     },
     "execution_count": 15,
     "metadata": {},
     "output_type": "execute_result"
    }
   ],
   "source": [
    "uniqueParhs_(3, 7)"
   ]
  },
  {
   "cell_type": "markdown",
   "id": "behavioral-restriction",
   "metadata": {},
   "source": [
    "### leetcode-70：爬楼梯"
   ]
  },
  {
   "cell_type": "code",
   "execution_count": 16,
   "id": "threaded-account",
   "metadata": {},
   "outputs": [],
   "source": [
    "def climbStairs(n):\n",
    "    if n == 1:\n",
    "        return 1\n",
    "    if n == 2:\n",
    "        return 2\n",
    "    dp = [0 for _ in range(n)]\n",
    "    dp[0] = 1\n",
    "    dp[1] = 2\n",
    "    for i in range(2, n):\n",
    "        dp[i] = dp[i-1] + dp[-2]\n",
    "    return dp[-1]"
   ]
  },
  {
   "cell_type": "markdown",
   "id": "pressing-conflict",
   "metadata": {},
   "source": [
    "### leetcode-72：编辑距离"
   ]
  },
  {
   "cell_type": "code",
   "execution_count": 19,
   "id": "divine-hardwood",
   "metadata": {},
   "outputs": [],
   "source": [
    "def minDistance(word1, word2):\n",
    "    m = len(word1)\n",
    "    n = len(word2)\n",
    "    \n",
    "    dp = [[0 for _ in range(n+1)] for _ in range(m+1)]\n",
    "    \n",
    "    # 处理第一行\n",
    "    for i in range(n+1):\n",
    "        dp[0][i] = i\n",
    "    \n",
    "    # 处理第一列\n",
    "    for i in range(m+1):\n",
    "        dp[i][0] = i\n",
    "        \n",
    "    # 处理剩余元素\n",
    "    for i in range(1, m+1):\n",
    "        for j in range(1, n+1):\n",
    "            if word1[i-1] == word2[j-1]:\n",
    "                dp[i][j] = dp[i-1][j-1]\n",
    "            else:\n",
    "                dp[i][j] = min(dp[i-1][j], dp[i][j-1], dp[i-1][j-1]) + 1\n",
    "    \n",
    "    return dp[-1][-1]"
   ]
  },
  {
   "cell_type": "code",
   "execution_count": 20,
   "id": "tight-scope",
   "metadata": {
    "scrolled": true
   },
   "outputs": [
    {
     "data": {
      "text/plain": [
       "2"
      ]
     },
     "execution_count": 20,
     "metadata": {},
     "output_type": "execute_result"
    }
   ],
   "source": [
    "minDistance(\"hello\", \"hlle\")"
   ]
  },
  {
   "cell_type": "markdown",
   "id": "sacred-affiliate",
   "metadata": {},
   "source": [
    "### leetcode-78：子集"
   ]
  },
  {
   "cell_type": "code",
   "execution_count": 23,
   "id": "opponent-jerusalem",
   "metadata": {},
   "outputs": [],
   "source": [
    "def subsets(nums):\n",
    "    res = []\n",
    "    temp = []\n",
    "    \n",
    "    dfs(res, temp, nums, 0)\n",
    "    return res\n",
    "\n",
    "def dfs(res, temp, nums, index):\n",
    "    \n",
    "    res.append(temp[:])\n",
    "    for i in range(index, len(nums)):\n",
    "        temp.append(nums[i])\n",
    "        dfs(res, temp, nums, i+1)\n",
    "        temp.pop(-1)"
   ]
  },
  {
   "cell_type": "code",
   "execution_count": 4,
   "id": "advised-delta",
   "metadata": {},
   "outputs": [],
   "source": [
    "def subsets_(nums):\n",
    "    res = [[]]\n",
    "    for item in nums:\n",
    "        res = res + [[item] + num for num in res]\n",
    "    return res"
   ]
  },
  {
   "cell_type": "code",
   "execution_count": 24,
   "id": "fiscal-rhythm",
   "metadata": {},
   "outputs": [
    {
     "data": {
      "text/plain": [
       "[[], [1], [1, 2], [1, 2, 3], [1, 3], [2], [2, 3], [3]]"
      ]
     },
     "execution_count": 24,
     "metadata": {},
     "output_type": "execute_result"
    }
   ],
   "source": [
    "subsets([1,2,3])"
   ]
  },
  {
   "cell_type": "code",
   "execution_count": 5,
   "id": "endless-mouth",
   "metadata": {},
   "outputs": [
    {
     "data": {
      "text/plain": [
       "[[], [1], [2], [2, 1], [3], [3, 1], [3, 2], [3, 2, 1]]"
      ]
     },
     "execution_count": 5,
     "metadata": {},
     "output_type": "execute_result"
    }
   ],
   "source": [
    "subsets_([1,2,3])"
   ]
  },
  {
   "cell_type": "markdown",
   "id": "neutral-shipping",
   "metadata": {},
   "source": [
    "### leetcode-88：合并两个有序数组"
   ]
  },
  {
   "cell_type": "code",
   "execution_count": 28,
   "id": "otherwise-index",
   "metadata": {},
   "outputs": [],
   "source": [
    "def merge(nums1, m, nums2, n):\n",
    "    i, j, k = m-1, n-1, m+n-1\n",
    "    \n",
    "    while i>=0 and j>=0:\n",
    "        if nums1[i] < nums2[j]:\n",
    "            nums1[k] = nums2[j]\n",
    "            j -= 1\n",
    "        else:\n",
    "            nums1[k] = nums1[i]\n",
    "            i -= 1\n",
    "        k -= 1\n",
    "        \n",
    "    nums1[:j + 1] = nums2[:j + 1]\n",
    "    return nums1"
   ]
  },
  {
   "cell_type": "code",
   "execution_count": 30,
   "id": "statistical-escape",
   "metadata": {},
   "outputs": [
    {
     "data": {
      "text/plain": [
       "[-1, 1, 1, 2, 3, 4, 0]"
      ]
     },
     "execution_count": 30,
     "metadata": {},
     "output_type": "execute_result"
    }
   ],
   "source": [
    "nums1 = [1,2,3,0,0,0,0]\n",
    "m = 3\n",
    "nums2 = [-1,1,4,6]\n",
    "n = 3\n",
    "merge(nums1, m, nums2, n)"
   ]
  },
  {
   "cell_type": "markdown",
   "id": "extensive-weight",
   "metadata": {},
   "source": [
    "### leetcode-74： 搜索二维矩阵"
   ]
  },
  {
   "cell_type": "code",
   "execution_count": 77,
   "id": "colored-input",
   "metadata": {},
   "outputs": [],
   "source": [
    "def searchMatrix(matrix, target):\n",
    "    row, left, right = 0, 0, len(matrix)\n",
    "    \n",
    "    while left < right:\n",
    "        mid = (left+right) // 2\n",
    "        \n",
    "        if target == matrix[mid][0]:\n",
    "            return True\n",
    "        elif target > matrix[mid][0]:\n",
    "            row = mid\n",
    "            left = mid + 1\n",
    "        else:\n",
    "            right = mid\n",
    "    print(\"target所在行为：\", row)\n",
    "    \n",
    "    l, r = 0, len(matrix[0])\n",
    "    \n",
    "    while l < r:\n",
    "        mid = (l+r) // 2\n",
    "        \n",
    "        if target == matrix[row][mid]:\n",
    "            return True\n",
    "        elif target > matrix[row][mid]:\n",
    "            l = mid + 1\n",
    "        else:\n",
    "            r = mid\n",
    "    return False"
   ]
  },
  {
   "cell_type": "code",
   "execution_count": 83,
   "id": "solved-throw",
   "metadata": {},
   "outputs": [
    {
     "name": "stdout",
     "output_type": "stream",
     "text": [
      "target所在行为： 0\n"
     ]
    },
    {
     "data": {
      "text/plain": [
       "True"
      ]
     },
     "execution_count": 83,
     "metadata": {},
     "output_type": "execute_result"
    }
   ],
   "source": [
    "matrix = [[1,3,5,7],[10,11,16,20],[23,30,34,50]]\n",
    "target = 3\n",
    "searchMatrix(matrix, target)"
   ]
  },
  {
   "cell_type": "markdown",
   "id": "encouraging-segment",
   "metadata": {},
   "source": [
    "### leetcode-92：反转链表II"
   ]
  },
  {
   "cell_type": "code",
   "execution_count": null,
   "id": "positive-awareness",
   "metadata": {},
   "outputs": [],
   "source": [
    "def reverseBetween(head, left, right):\n",
    "    pass\n",
    "    "
   ]
  },
  {
   "cell_type": "markdown",
   "id": "macro-terry",
   "metadata": {},
   "source": [
    "### leetcode-94：中序遍历"
   ]
  },
  {
   "cell_type": "code",
   "execution_count": 2,
   "id": "statewide-sword",
   "metadata": {},
   "outputs": [],
   "source": [
    "def inorder(root):\n",
    "    path = []\n",
    "    stack = []\n",
    "    \n",
    "    while stack or root:\n",
    "        \n",
    "        while root:\n",
    "            stack.append(root)\n",
    "            root = root.left\n",
    "        \n",
    "        if stack:\n",
    "            cur_node = stack.pop()\n",
    "            path.append(cur_node.val)\n",
    "            root = cur_node.right"
   ]
  },
  {
   "cell_type": "markdown",
   "id": "enhanced-ordinance",
   "metadata": {},
   "source": [
    "### leetcode-102： 二叉树的层次遍历"
   ]
  },
  {
   "cell_type": "code",
   "execution_count": 4,
   "id": "interim-canon",
   "metadata": {},
   "outputs": [],
   "source": [
    "# 层次遍历 返回二维列表形式 input：[3,9,20,null,null,15,7] output：[[3],[9,20],[15,7]]\n",
    "def levelOrder(root):\n",
    "    paths = []\n",
    "    if not root:\n",
    "        return paths\n",
    "    \n",
    "    queue = [root]\n",
    "    \n",
    "    while queue:\n",
    "        next_level = []\n",
    "        paths.append([])\n",
    "        \n",
    "        for node in queue:\n",
    "            paths[-1].append(node.val)\n",
    "            \n",
    "            if node.left:\n",
    "                next_level.append(node.left)\n",
    "                \n",
    "            if node.right:\n",
    "                next_level.append(node.right)\n",
    "        \n",
    "        queue = next_level\n",
    "    \n",
    "    return paths\n",
    "    "
   ]
  },
  {
   "cell_type": "markdown",
   "id": "surface-wrist",
   "metadata": {},
   "source": [
    "### leetcode-104： 二叉树的最大深度"
   ]
  },
  {
   "cell_type": "code",
   "execution_count": 7,
   "id": "decimal-press",
   "metadata": {},
   "outputs": [],
   "source": [
    "def maxDepth(root):\n",
    "    # 通过二叉树的层次遍历 每加一层 高度+1\n",
    "    height = 0\n",
    "    if not root:\n",
    "        return height\n",
    "    \n",
    "    queue = [root]\n",
    "    \n",
    "    while queue:\n",
    "        tmp_queue = queue[:]\n",
    "        \n",
    "        for node in tmp_queue:\n",
    "            queue.pop(0)\n",
    "            \n",
    "            if node.left:\n",
    "                queue.append(node.left)\n",
    "            \n",
    "            if node.right:\n",
    "                queue.append(node.right)\n",
    "        height += 1\n",
    "    \n",
    "    return height\n",
    "\n",
    "def maxDepth_(root):\n",
    "    if not root:\n",
    "        return 0\n",
    "    \n",
    "    left_depth = maxDepth(root.left)\n",
    "    right_depth = maxDepth(root.right)\n",
    "    \n",
    "    return max(left_depth, right_depth) + 1"
   ]
  },
  {
   "cell_type": "markdown",
   "id": "architectural-alpha",
   "metadata": {},
   "source": [
    "### leetcode-121：买卖股票的最佳时机"
   ]
  },
  {
   "cell_type": "code",
   "execution_count": 8,
   "id": "focal-store",
   "metadata": {},
   "outputs": [],
   "source": [
    "def maxProfit(prices):\n",
    "    if len(prices) <= 1:\n",
    "        return 0\n",
    "    buy_in, max_profit = 0, prices[0]\n",
    "    \n",
    "    for i in range(len(prices)):\n",
    "        buy_in = min(buy_in, prices[i])\n",
    "        max_profit = max(max_profit, prices[i]-buy_in)\n",
    "    \n",
    "    return max_profit"
   ]
  },
  {
   "cell_type": "markdown",
   "id": "twelve-grammar",
   "metadata": {},
   "source": [
    "### leetcode-122：买卖股票的最佳时机II"
   ]
  },
  {
   "cell_type": "code",
   "execution_count": 9,
   "id": "alike-angel",
   "metadata": {},
   "outputs": [],
   "source": [
    "# 使用贪心算法进行求解\n",
    "def maxProfit(prices):\n",
    "    if len(prices) <= 1:\n",
    "        return 0\n",
    "    \n",
    "    buy_in, max_profit = prices[0], 0\n",
    "    \n",
    "    for i in range(1, len(prices)):\n",
    "        if prices[i] > buy_in:\n",
    "            cur_profit = prices[i] - buy_in\n",
    "            max_profit += cur_profit\n",
    "            buy_in = prices[i]\n",
    "        else:\n",
    "            buy_in = prices[i]\n",
    "    \n",
    "    return max_profit"
   ]
  },
  {
   "cell_type": "markdown",
   "id": "foreign-money",
   "metadata": {},
   "source": [
    "### leetcode-124：二叉树的最大路径和"
   ]
  },
  {
   "cell_type": "code",
   "execution_count": null,
   "id": "bacterial-badge",
   "metadata": {},
   "outputs": [],
   "source": []
  },
  {
   "cell_type": "markdown",
   "id": "binding-emission",
   "metadata": {},
   "source": [
    "### leetcode-141：环形链表"
   ]
  },
  {
   "cell_type": "code",
   "execution_count": 12,
   "id": "protected-phoenix",
   "metadata": {},
   "outputs": [],
   "source": [
    "def hasCircle(head):\n",
    "    if not head or not head.next:\n",
    "        return False\n",
    "    \n",
    "    slow, fast = head, head\n",
    "    \n",
    "    while fast.next and fast.next.next:\n",
    "        slow = slow.next\n",
    "        fast = fast.next.next\n",
    "        \n",
    "        if slow == fast:\n",
    "            return True\n",
    "        \n",
    "    return False"
   ]
  },
  {
   "cell_type": "markdown",
   "id": "creative-sheffield",
   "metadata": {},
   "source": [
    "### leetcode-142：环形链表II"
   ]
  },
  {
   "cell_type": "code",
   "execution_count": 13,
   "id": "alive-reliance",
   "metadata": {},
   "outputs": [],
   "source": [
    "def detectCycle(head):\n",
    "    if not head:\n",
    "        return None\n",
    "    \n",
    "    slow, fast = head, head\n",
    "    \n",
    "    while fast.next and fast.next.next:\n",
    "        slow = slow.next\n",
    "        fast = fast.next.next\n",
    "        \n",
    "        if slow == fast:\n",
    "            \n",
    "            fast = head\n",
    "            \n",
    "            while fast != slow:\n",
    "                fast = fast.next\n",
    "                slow = slow.next\n",
    "            return fast\n",
    "        \n",
    "    return None"
   ]
  },
  {
   "cell_type": "markdown",
   "id": "acceptable-plant",
   "metadata": {},
   "source": [
    "### leetcode-160：相交链表"
   ]
  },
  {
   "cell_type": "code",
   "execution_count": 14,
   "id": "specified-foster",
   "metadata": {},
   "outputs": [],
   "source": [
    "def getIntersectionNode(headA, headB):\n",
    "    if not headA or not headB:\n",
    "        return None\n",
    "    \n",
    "    t1, t2 = headA, headB\n",
    "    len_1, len_2 = 1, 1\n",
    "    \n",
    "    while t1:\n",
    "        t1 = t1.next\n",
    "        len_1 += 1\n",
    "    \n",
    "    while t2:\n",
    "        t2 = t2.next\n",
    "        len_2 += 1\n",
    "        \n",
    "    if t1 != t2:\n",
    "        return None\n",
    "    \n",
    "    if len_1 > len_2:\n",
    "        move_len = len_1 - len_2\n",
    "        \n",
    "        for i in range(move_len):\n",
    "            headA = headA.next\n",
    "        \n",
    "        while headA and headB:\n",
    "            if headA == headB:\n",
    "                return headA\n",
    "            headA = headA.next\n",
    "            headB = headB.next\n",
    "            \n",
    "    else:\n",
    "        move_len = len_2 - len_1\n",
    "        for i in range(move_len):\n",
    "            headB = headB.next\n",
    "            \n",
    "        while headA and headB:\n",
    "            if headA == headB:\n",
    "                return headA\n",
    "            headA = headA.next\n",
    "            headB = headB.next"
   ]
  },
  {
   "cell_type": "markdown",
   "id": "sapphire-notification",
   "metadata": {},
   "source": [
    "### leetcode-206：反转链表"
   ]
  },
  {
   "cell_type": "code",
   "execution_count": 5,
   "id": "mature-capacity",
   "metadata": {},
   "outputs": [],
   "source": [
    "def reverseList(head):\n",
    "    if not head:\n",
    "        return head\n",
    "    \n",
    "    pre_node = None\n",
    "    cur_node = head\n",
    "    \n",
    "    while cur_node:\n",
    "        next_node = cur_node.next\n",
    "        cur_node.next = pre_node\n",
    "        \n",
    "        pre_node = cur_node\n",
    "        \n",
    "        cur_node = next_node\n",
    "    \n",
    "    return pre_node"
   ]
  },
  {
   "cell_type": "markdown",
   "id": "comparable-cable",
   "metadata": {},
   "source": [
    "### leetcode-215：数组中第K个最大元素"
   ]
  },
  {
   "cell_type": "code",
   "execution_count": 22,
   "id": "african-level",
   "metadata": {},
   "outputs": [],
   "source": [
    "# 在未排序的数组中找到第 k 个最大的元素\n",
    "def findKthLargest(nums, k):\n",
    "    k_nums = nums[:k]\n",
    "    k_heap = build_heap(k_nums)\n",
    "    for i in range(k, len(nums)):\n",
    "        if nums[i] > k_heap[0]:\n",
    "            k_heap[0] = nums[i]\n",
    "            adjust_heap(k_heap, 0)\n",
    "    sorted_heap = heap_sort(k_heap)\n",
    "    return sorted_heap[0]\n",
    "\n",
    "\n",
    "def build_heap(heap):\n",
    "    length = len(heap)\n",
    "    for i in range(length // 2 -1, -1, -1):\n",
    "        adjust_heap(heap, i)\n",
    "    \n",
    "    return heap\n",
    "\n",
    "def adjust_heap(heap, index):\n",
    "    left, right = index * 2 + 1, index * 2 + 2\n",
    "    min_index = index\n",
    "    length = len(heap)\n",
    "    \n",
    "    if left < length and heap[left] < heap[min_index]:\n",
    "        min_index = left\n",
    "        \n",
    "    if right < length and heap[right] < heap[min_index]:\n",
    "        min_index = right\n",
    "    \n",
    "    if min_index != index:\n",
    "        heap[index], heap[min_index] = heap[min_index], heap[index]\n",
    "        adjust_heap(heap, min_index)\n",
    "\n",
    "def heap_sort(heap):\n",
    "    sorted_res = []\n",
    "    \n",
    "    for i in range(len(heap)):\n",
    "        length = len(heap)\n",
    "        heap[0], heap[length-1] = heap[length-1], heap[0]\n",
    "        sorted_res.append(heap.pop(-1))\n",
    "        adjust_heap(heap, 0)\n",
    "    \n",
    "    return sorted_res"
   ]
  },
  {
   "cell_type": "code",
   "execution_count": 23,
   "id": "registered-essex",
   "metadata": {},
   "outputs": [
    {
     "data": {
      "text/plain": [
       "4"
      ]
     },
     "execution_count": 23,
     "metadata": {},
     "output_type": "execute_result"
    }
   ],
   "source": [
    "findKthLargest([3,2,3,1,2,4,5,5,6], 4)"
   ]
  },
  {
   "cell_type": "code",
   "execution_count": 24,
   "id": "polar-intention",
   "metadata": {},
   "outputs": [
    {
     "data": {
      "text/plain": [
       "5"
      ]
     },
     "execution_count": 24,
     "metadata": {},
     "output_type": "execute_result"
    }
   ],
   "source": [
    "findKthLargest([3,2,1,5,6,4], 2)"
   ]
  },
  {
   "cell_type": "markdown",
   "id": "equivalent-panic",
   "metadata": {},
   "source": [
    "### leetcode-226：翻转二叉树"
   ]
  },
  {
   "cell_type": "code",
   "execution_count": 26,
   "id": "agricultural-edition",
   "metadata": {},
   "outputs": [],
   "source": [
    "# 从上到下进行翻转\n",
    "def invertTree(root):\n",
    "    if not root:\n",
    "        return root\n",
    "    \n",
    "    root.left, root.right = root.right, root.left\n",
    "    \n",
    "    invertTree(root.left)\n",
    "    invertTree(root.right)\n",
    "    \n",
    "    return root"
   ]
  },
  {
   "cell_type": "markdown",
   "id": "attractive-taxation",
   "metadata": {},
   "source": [
    "### leetcode-235：二叉搜索树的最近公共祖先"
   ]
  },
  {
   "cell_type": "code",
   "execution_count": 3,
   "id": "guided-world",
   "metadata": {},
   "outputs": [],
   "source": [
    "# 二叉搜索树的 左节点 < 父节点 < 右节点\n",
    "def lowestCommonAncestor(root, p, q):\n",
    "    \n",
    "    if root.val > p.val and root.val > q.val:\n",
    "        return lowestCommonAncestor(root.left, p, q)\n",
    "    \n",
    "    if root.val < p.val and root.val < q.val:\n",
    "        return lowestCommonAncestor(root.right, p, q)\n",
    "\n",
    "    return root"
   ]
  },
  {
   "cell_type": "markdown",
   "id": "harmful-harvard",
   "metadata": {},
   "source": [
    "### leetcode-235：二叉树的最近公共祖先"
   ]
  },
  {
   "cell_type": "code",
   "execution_count": 2,
   "id": "finite-cycle",
   "metadata": {},
   "outputs": [],
   "source": [
    "def lowestCommonAncestor(root, p, q):\n",
    "    \n",
    "    # 如果某个节点刚好等于p或者q节点 返回该节点\n",
    "    if not root or root==p or root==q:\n",
    "        return root\n",
    "    \n",
    "    # 递归遍历左子树\n",
    "    left = lowestCommonAncestor(root.left, p, q)\n",
    "    # 递归遍历右子树\n",
    "    right = lowestCommonAncestor(root.right, p, q)\n",
    "    \n",
    "    # 如果左子树有公共节点 并且 右子树有公共节点的话 返回根节点\n",
    "    if left and right:\n",
    "        return root\n",
    "    \n",
    "    # 否则 返回非空的子树 节点\n",
    "    return left if not right else right"
   ]
  },
  {
   "cell_type": "markdown",
   "id": "transparent-governor",
   "metadata": {},
   "source": [
    "### leetcode-257：二叉树的所有路径"
   ]
  },
  {
   "cell_type": "code",
   "execution_count": 11,
   "id": "through-amazon",
   "metadata": {},
   "outputs": [],
   "source": [
    "def binarytreePath(root):\n",
    "    paths = []\n",
    "    if not root:\n",
    "        return paths\n",
    "    stack = [(root, str(root.val))]\n",
    "    while stack:\n",
    "        node, path = stack.pop()\n",
    "        \n",
    "        if not node.left and not node.right:\n",
    "            paths.append(path)\n",
    "        \n",
    "        if node.left:\n",
    "            stack.append((node.left, path + \"->\" + str(node.left.val)))\n",
    "        \n",
    "        if node.right:\n",
    "            stack.append((node.right, path + \"->\" + str(node.right.val)))\n",
    "    \n",
    "    return paths\n",
    "            "
   ]
  },
  {
   "cell_type": "markdown",
   "id": "brave-personal",
   "metadata": {},
   "source": [
    "### leetcode-1143：最长公共子序列"
   ]
  },
  {
   "cell_type": "code",
   "execution_count": 54,
   "id": "latest-confidence",
   "metadata": {},
   "outputs": [],
   "source": [
    "def longestCommonSequence(s1, s2):\n",
    "    m, n = len(s1), len(s2)\n",
    "    \n",
    "    dp = [[0 for _ in range(n+1)] for _ in range(m+1)]\n",
    "    \n",
    "    for i in range(1, m+1):\n",
    "        for j in range(1, n+1):\n",
    "            if s1[i-1] == s2[j-1]:\n",
    "                dp[i][j] = dp[i-1][j-1] + 1\n",
    "            else:\n",
    "                dp[i][j] = max(dp[i-1][j], dp[i][j-1])\n",
    "                \n",
    "    return dp[m][n]"
   ]
  },
  {
   "cell_type": "code",
   "execution_count": null,
   "id": "behavioral-mustang",
   "metadata": {},
   "outputs": [],
   "source": []
  },
  {
   "cell_type": "code",
   "execution_count": null,
   "id": "developing-small",
   "metadata": {},
   "outputs": [],
   "source": []
  }
 ],
 "metadata": {
  "kernelspec": {
   "display_name": "Python 3",
   "language": "python",
   "name": "python3"
  },
  "language_info": {
   "codemirror_mode": {
    "name": "ipython",
    "version": 3
   },
   "file_extension": ".py",
   "mimetype": "text/x-python",
   "name": "python",
   "nbconvert_exporter": "python",
   "pygments_lexer": "ipython3",
   "version": "3.9.2"
  },
  "toc": {
   "base_numbering": 1,
   "nav_menu": {},
   "number_sections": true,
   "sideBar": true,
   "skip_h1_title": false,
   "title_cell": "Table of Contents",
   "title_sidebar": "Contents",
   "toc_cell": false,
   "toc_position": {},
   "toc_section_display": true,
   "toc_window_display": false
  }
 },
 "nbformat": 4,
 "nbformat_minor": 5
}
