{
 "cells": [
  {
   "cell_type": "markdown",
   "id": "daily-hunger",
   "metadata": {},
   "source": [
    "### leetcode-2：两数相加"
   ]
  },
  {
   "cell_type": "code",
   "execution_count": 1,
   "id": "incredible-exhibition",
   "metadata": {},
   "outputs": [],
   "source": [
    "class ListNode(object):\n",
    "    def __init__(self, x):\n",
    "        self.val = x\n",
    "        self.next = None"
   ]
  },
  {
   "cell_type": "code",
   "execution_count": 2,
   "id": "latest-electricity",
   "metadata": {},
   "outputs": [],
   "source": [
    "def add_two_numbers(l1: ListNode, l2: ListNode) -> ListNode:\n",
    "    dummy_head = ListNode(0)\n",
    "    \n",
    "    curr, carry = dummy_head, 0\n",
    "    \n",
    "    while l1 or l2:\n",
    "        cur_sum = 0\n",
    "        \n",
    "        if l1:\n",
    "            cur_sum += l1.val\n",
    "            l1 = l1.next\n",
    "        \n",
    "        if l2:\n",
    "            cur_sum += l2.val\n",
    "            l2 = l2.next\n",
    "        \n",
    "        cur_sum += carry\n",
    "        carry = cur_sum // 10\n",
    "        curr.next = ListNode(cur_sum % 10)\n",
    "        curr = curr.next\n",
    "    \n",
    "    if carry > 0:\n",
    "        curr.next = ListNode(1)\n",
    "    \n",
    "    return dummy_head.next"
   ]
  },
  {
   "cell_type": "markdown",
   "id": "controversial-suspect",
   "metadata": {},
   "source": [
    "### leetcode-5：最长回文子串"
   ]
  },
  {
   "cell_type": "code",
   "execution_count": null,
   "id": "engaged-increase",
   "metadata": {},
   "outputs": [],
   "source": []
  },
  {
   "cell_type": "markdown",
   "id": "employed-stewart",
   "metadata": {},
   "source": [
    "### leetcode-14：最长公共前缀"
   ]
  },
  {
   "cell_type": "code",
   "execution_count": 1,
   "id": "supreme-basket",
   "metadata": {},
   "outputs": [],
   "source": [
    "def longestCommonPrefix(strs):\n",
    "    result = \"\"\n",
    "    if strs == []:\n",
    "        return result\n",
    "    \n",
    "    result = strs[0]\n",
    "    \n",
    "    for i in range(1, len(strs)):\n",
    "        for j in range(len(result), -1, -1):\n",
    "            if strs[i].startswith(result[:j]):\n",
    "                break\n",
    "            else:\n",
    "                result = result[:j-1]\n",
    "                \n",
    "    return result\n",
    "            "
   ]
  },
  {
   "cell_type": "markdown",
   "id": "nutritional-costa",
   "metadata": {},
   "source": [
    "### leetcode-15：three sum"
   ]
  },
  {
   "cell_type": "code",
   "execution_count": 5,
   "id": "italian-tooth",
   "metadata": {},
   "outputs": [],
   "source": [
    "def three_sum(nums, target):\n",
    "    nums.sort()\n",
    "    res = []\n",
    "    \n",
    "    for i in range(len(nums) - 2):\n",
    "        first_num = nums[i]\n",
    "        \n",
    "        # 避免数出现重复\n",
    "        if i==0 or first_num != nums[i-1]:\n",
    "            left = i + 1\n",
    "            right = len(nums) - 1\n",
    "            \n",
    "            two_sum_target = target-first_num\n",
    "            \n",
    "            while left < right:\n",
    "                two_sum_temp = nums[left] + nums[right]\n",
    "                \n",
    "                if two_sum_temp == two_sum_target:\n",
    "                    res.append([first_num, nums[left], nums[right]])\n",
    "                    \n",
    "                    while left < right and nums[left] == nums[left + 1]:\n",
    "                        left += 1\n",
    "                    \n",
    "                    while left < right and nums[right] == nums[right - 1]:\n",
    "                        right -= 1\n",
    "                    \n",
    "                    left += 1\n",
    "                    right -= 1\n",
    "                elif two_sum_temp < two_sum_target:\n",
    "                    left += 1\n",
    "                else:\n",
    "                    right -=1\n",
    "    return res"
   ]
  },
  {
   "cell_type": "code",
   "execution_count": 6,
   "id": "turned-mills",
   "metadata": {},
   "outputs": [
    {
     "name": "stdout",
     "output_type": "stream",
     "text": [
      "[[-1, -1, 2], [-1, 0, 1]]\n"
     ]
    }
   ],
   "source": [
    "nums = [-1, 0, 1, 2, -1, 4]\n",
    "target = 0\n",
    "print(three_sum(nums, target))"
   ]
  },
  {
   "cell_type": "markdown",
   "id": "verbal-opportunity",
   "metadata": {},
   "source": [
    "### leetcode-19：删除链表的倒数第N个节点"
   ]
  },
  {
   "cell_type": "code",
   "execution_count": 13,
   "id": "ancient-corporation",
   "metadata": {},
   "outputs": [],
   "source": [
    "def removeNthFromEnd(head, n):\n",
    "    \n",
    "    def get_length(head):\n",
    "        length = 0\n",
    "        while head is not None:\n",
    "            head = head.next\n",
    "            length += 1\n",
    "        return length\n",
    "    \n",
    "    length = get_length(head)\n",
    "    \n",
    "    dummy = ListNode(0)\n",
    "    dummy.next = head\n",
    "    \n",
    "    cur = dummy\n",
    "    \n",
    "    for i in range(length-n):\n",
    "        cur = cur.next\n",
    "    \n",
    "    cur.next = cur.next.next\n",
    "    \n",
    "    return dummy.next\n",
    "        "
   ]
  },
  {
   "cell_type": "markdown",
   "id": "thousand-stockholm",
   "metadata": {},
   "source": [
    "### leetcode-20：有效的括号"
   ]
  },
  {
   "cell_type": "code",
   "execution_count": 14,
   "id": "color-departure",
   "metadata": {},
   "outputs": [],
   "source": [
    "def is_valid(s):\n",
    "    couple = [\"()\", \"[]\", \"{}\"]\n",
    "    left_ = [\"(\", \"[\", \"{\"]\n",
    "    \n",
    "    stack = []\n",
    "    \n",
    "    for item in s:\n",
    "        if item in left_:\n",
    "            stack.append(item)\n",
    "        else:\n",
    "            if stack != []:\n",
    "                cur_pop_item = stack.pop()\n",
    "                \n",
    "                if cur_pop_item + item not in couple:\n",
    "                    return False\n",
    "            else:\n",
    "                return False\n",
    "    \n",
    "    if stack == []:\n",
    "        return True\n",
    "    else:\n",
    "        return False"
   ]
  },
  {
   "cell_type": "markdown",
   "id": "refined-party",
   "metadata": {},
   "source": [
    "### leetcode-21:合成两个有序链表"
   ]
  },
  {
   "cell_type": "code",
   "execution_count": 18,
   "id": "chicken-montreal",
   "metadata": {},
   "outputs": [],
   "source": [
    "def merge_two_lists(l1,l2):\n",
    "    dummy = ListNode(0)\n",
    "    cur = dummy\n",
    "    \n",
    "    while l1 and l2:\n",
    "        if l1.val <= l2.val:\n",
    "            cur.next = l1\n",
    "            l1 = l1.next\n",
    "        else:\n",
    "            cur.next = l2\n",
    "            l2 = l2.next\n",
    "        cur = cur.next\n",
    "    \n",
    "    if l1 is not None:\n",
    "        cur.next = l1\n",
    "    else:\n",
    "        cur.next = l2\n",
    "    \n",
    "    return dummy.next"
   ]
  },
  {
   "cell_type": "markdown",
   "id": "proof-dragon",
   "metadata": {},
   "source": [
    "### leetcode-26：删除有序数组中重复项"
   ]
  },
  {
   "cell_type": "code",
   "execution_count": 22,
   "id": "changing-smart",
   "metadata": {},
   "outputs": [],
   "source": [
    "def remove_duplicates(nums):\n",
    "    if nums == []:\n",
    "        return 0\n",
    "    \n",
    "    index = 0\n",
    "    \n",
    "    for i in range(index+1, len(nums)):\n",
    "        if nums[index] == nums[i]:\n",
    "            continue\n",
    "        else:\n",
    "            index += 1\n",
    "            nums[index] = nums[i]\n",
    "    return index + 1"
   ]
  },
  {
   "cell_type": "markdown",
   "id": "headed-little",
   "metadata": {},
   "source": [
    "### leetcode-27：移出元素"
   ]
  },
  {
   "cell_type": "code",
   "execution_count": 26,
   "id": "aggressive-teddy",
   "metadata": {},
   "outputs": [],
   "source": [
    "def remove_element(nums, val):\n",
    "    dup_count = 0\n",
    "    \n",
    "    for i in range(len(nums)):\n",
    "        if nums[i] == val:\n",
    "            dup_count += 1\n",
    "        else:\n",
    "            nums[i-dup_count] = nums[i]\n",
    "    \n",
    "    if dup_count == 0:\n",
    "        nums = nums\n",
    "    else:\n",
    "        nums = nums[:-dup_count]\n",
    "    \n",
    "    print(nums)\n",
    "    return len(nums)"
   ]
  },
  {
   "cell_type": "code",
   "execution_count": 27,
   "id": "mature-vessel",
   "metadata": {
    "scrolled": true
   },
   "outputs": [
    {
     "name": "stdout",
     "output_type": "stream",
     "text": [
      "[2, 2, 9, 8]\n"
     ]
    },
    {
     "data": {
      "text/plain": [
       "4"
      ]
     },
     "execution_count": 27,
     "metadata": {},
     "output_type": "execute_result"
    }
   ],
   "source": [
    "nums = [3, 2, 3, 2, 9, 8, 3]\n",
    "remove_element(nums, 3)"
   ]
  },
  {
   "cell_type": "markdown",
   "id": "intermediate-invasion",
   "metadata": {},
   "source": [
    "### leetcode-33：搜索旋转排序数组"
   ]
  },
  {
   "cell_type": "code",
   "execution_count": 46,
   "id": "wired-botswana",
   "metadata": {},
   "outputs": [],
   "source": [
    "def search(nums, target):\n",
    "    left, right = 0, len(nums) -1\n",
    "    \n",
    "    while left < right:\n",
    "        mid = (left + right) // 2\n",
    "        \n",
    "        if nums[mid] > nums[right]:\n",
    "            left  = mid + 1\n",
    "        else:\n",
    "            right = mid\n",
    "    \n",
    "    pol_index = left\n",
    "    print(\"旋转数组的位置索引为：\", pol_index)\n",
    "    \n",
    "    ans = binary_search(nums[:pol_index], target)\n",
    "    \n",
    "    if ans == -1:\n",
    "        ans = binary_search(nums[pol_index:], target)\n",
    "        \n",
    "        if ans != -1:\n",
    "            ans += pol_index\n",
    "    \n",
    "    return ans\n",
    "\n",
    "\n",
    "def binary_search(nums, target):\n",
    "    left, right = 0, len(nums)-1\n",
    "    \n",
    "    while left <= right:\n",
    "        mid = (left+right) // 2\n",
    "        \n",
    "        if nums[mid] == target:\n",
    "            return mid\n",
    "        elif nums[mid] > target:\n",
    "            right = mid - 1\n",
    "        else:\n",
    "            left = mid + 1\n",
    "    return -1\n",
    "            "
   ]
  },
  {
   "cell_type": "code",
   "execution_count": 48,
   "id": "accessory-enterprise",
   "metadata": {},
   "outputs": [
    {
     "name": "stdout",
     "output_type": "stream",
     "text": [
      "旋转数组的位置索引为： 4\n"
     ]
    },
    {
     "data": {
      "text/plain": [
       "2"
      ]
     },
     "execution_count": 48,
     "metadata": {},
     "output_type": "execute_result"
    }
   ],
   "source": [
    "nums = [4,5,6,7,0,1,2]\n",
    "search(nums, 6)"
   ]
  },
  {
   "cell_type": "markdown",
   "id": "regulated-chart",
   "metadata": {},
   "source": [
    "### leetcode-39：组合总和"
   ]
  },
  {
   "cell_type": "code",
   "execution_count": 66,
   "id": "stable-escape",
   "metadata": {},
   "outputs": [
    {
     "data": {
      "text/plain": [
       "[1, 2, 3, 3, 4, 5]"
      ]
     },
     "execution_count": 66,
     "metadata": {},
     "output_type": "execute_result"
    }
   ],
   "source": [
    "a = [1,2,3]\n",
    "a.extend([3,4,5])\n",
    "a"
   ]
  },
  {
   "cell_type": "markdown",
   "id": "cosmetic-senator",
   "metadata": {},
   "source": [
    "### leetcode-46：全排列"
   ]
  },
  {
   "cell_type": "code",
   "execution_count": 61,
   "id": "colonial-colleague",
   "metadata": {},
   "outputs": [],
   "source": [
    "def permute(nums):\n",
    "    result = []\n",
    "    \n",
    "    if len(nums) == 1:\n",
    "        return [nums]\n",
    "    \n",
    "    for i, num in enumerate(nums):\n",
    "        res_nums = nums[:i] + nums[i+1:]\n",
    "        \n",
    "        for sub_list in permute(res_nums):\n",
    "            result.append([num] + sub_list)\n",
    "    return result"
   ]
  },
  {
   "cell_type": "code",
   "execution_count": 62,
   "id": "genuine-juice",
   "metadata": {},
   "outputs": [
    {
     "data": {
      "text/plain": [
       "[[1, 3, 4], [1, 4, 3], [3, 1, 4], [3, 4, 1], [4, 1, 3], [4, 3, 1]]"
      ]
     },
     "execution_count": 62,
     "metadata": {},
     "output_type": "execute_result"
    }
   ],
   "source": [
    "permute([1,3,4])"
   ]
  },
  {
   "cell_type": "markdown",
   "id": "portuguese-exercise",
   "metadata": {},
   "source": [
    "### leetcode-34 在排序数组中查找元素的第一个和最后一个位置"
   ]
  },
  {
   "cell_type": "code",
   "execution_count": 52,
   "id": "asian-frontier",
   "metadata": {},
   "outputs": [],
   "source": [
    "def searchRange(nums, target):\n",
    "    \n",
    "    left, right = 0, len(nums)-1\n",
    "    \n",
    "    while left <= right:\n",
    "        mid = (left+right) // 2\n",
    "        \n",
    "        if target == nums[mid]:\n",
    "            \n",
    "            left_, right_ = mid, mid\n",
    "            \n",
    "            while left_>0 and target == nums[left_ - 1]:\n",
    "                left_ -= 1\n",
    "            \n",
    "            while right_ < right and target == nums[right_ + 1]:\n",
    "                right_ += 1\n",
    "            \n",
    "            return [left_, right_]\n",
    "            \n",
    "            \n",
    "        elif target > nums[mid]:\n",
    "            left = mid +1\n",
    "        else:\n",
    "            right = mid -1\n",
    "    \n",
    "    return [-1, -1]"
   ]
  },
  {
   "cell_type": "code",
   "execution_count": 53,
   "id": "stretch-christianity",
   "metadata": {},
   "outputs": [
    {
     "data": {
      "text/plain": [
       "[3, 5]"
      ]
     },
     "execution_count": 53,
     "metadata": {},
     "output_type": "execute_result"
    }
   ],
   "source": [
    "nums = [5, 7, 7, 8, 8,8, 10]\n",
    "target = 8\n",
    "searchRange(nums, target)"
   ]
  },
  {
   "cell_type": "markdown",
   "id": "structured-gambling",
   "metadata": {},
   "source": [
    "### leetcode-54：螺旋矩阵"
   ]
  },
  {
   "cell_type": "code",
   "execution_count": 67,
   "id": "velvet-montana",
   "metadata": {},
   "outputs": [],
   "source": [
    "def spiralOrder(matrix):\n",
    "    res, i, j, di, dj = [], 0, 0, 0, 1\n",
    "    if matrix:\n",
    "        for _ in range(len(matrix) * len(matrix[0])):\n",
    "            res.append(matrix[i][j])\n",
    "            matrix[i][j] = None\n",
    "            next_step = matrix[(i + di) % len(matrix)][(j + dj) % len(matrix[0])]\n",
    "            if next_step is None:\n",
    "                di, dj = dj, -di\n",
    "            i += di\n",
    "            j += dj\n",
    "    return res"
   ]
  },
  {
   "cell_type": "code",
   "execution_count": 71,
   "id": "physical-genealogy",
   "metadata": {},
   "outputs": [
    {
     "data": {
      "text/plain": [
       "[1, 2, 3, 6, 9, 8, 7, 4, 5]"
      ]
     },
     "execution_count": 71,
     "metadata": {},
     "output_type": "execute_result"
    }
   ],
   "source": [
    "spiralOrder([[1,2,3],[4,5,6],[7,8,9]])"
   ]
  },
  {
   "cell_type": "markdown",
   "id": "nutritional-spyware",
   "metadata": {},
   "source": [
    "### leetcode-56：合并区间"
   ]
  },
  {
   "cell_type": "code",
   "execution_count": 3,
   "id": "received-static",
   "metadata": {},
   "outputs": [],
   "source": [
    "# Important！！！\n",
    "def merge(intervals):\n",
    "    ans = []\n",
    "    intervals.sort(key=lambda x: x[0])\n",
    "    \n",
    "    # 双指针进行排序\n",
    "    begin, end = intervals[0][0], intervals[0][1]\n",
    "    for i in range(1, len(intervals)):\n",
    "        # 如果第二个数组的初始值小于等于end 并且 第二个数组的end值大于end， 则end指针后移\n",
    "        if intervals[i][0] <= end:\n",
    "            if intervals[i][1] > end:\n",
    "                end = intervals[i][1]\n",
    "        else:\n",
    "            ans.append([begin, end])\n",
    "            begin = intervals[0]\n",
    "            end = intervals[1]\n",
    "    \n",
    "    ans.append([bigin, end])\n",
    "    return ans\n",
    "        "
   ]
  },
  {
   "cell_type": "markdown",
   "id": "automated-excellence",
   "metadata": {},
   "source": [
    "### leetcode-61：旋转链表"
   ]
  },
  {
   "cell_type": "code",
   "execution_count": 6,
   "id": "assumed-alexandria",
   "metadata": {},
   "outputs": [],
   "source": [
    "# 输入：head = [1,2,3,4,5], k = 2\n",
    "# 输出：[4,5,1,2,3]\n",
    "def rotateRight(head, k):\n",
    "    length = 1\n",
    "    cur_node = head\n",
    "    while cur_node.next:\n",
    "        length += 1\n",
    "        next_node = cur_node.next\n",
    "        cur_node = next_node\n",
    "        \n",
    "    \n",
    "    # 做成环\n",
    "    cur_node.next = head\n",
    "    \n",
    "    # 继续移动k个位置 到链表应该断裂位置\n",
    "    k = k % length\n",
    "    for i in range(length - k):\n",
    "        next_node = cur_node.next\n",
    "        cur_node = next_node\n",
    "    \n",
    "    # 断开链接\n",
    "    head = cur_node.next\n",
    "    cur_node.next = None\n",
    "    \n",
    "    return head\n",
    "    "
   ]
  },
  {
   "cell_type": "markdown",
   "id": "criminal-sphere",
   "metadata": {},
   "source": [
    "### leetcode-62：不同路径"
   ]
  },
  {
   "cell_type": "code",
   "execution_count": 12,
   "id": "medium-israel",
   "metadata": {},
   "outputs": [],
   "source": [
    "def uniquePaths(m, n):\n",
    "    # 排列组合的方法\n",
    "    if m <= 1 or n <= 1:\n",
    "        return 1\n",
    "    \n",
    "    down = m - 1\n",
    "    right = n - 1\n",
    "    total_move = down + right\n",
    "    min_val = min(down, right)\n",
    "    \n",
    "    count = 1\n",
    "    divide = 1\n",
    "    for i in range(1, min_val+1):\n",
    "        count *= (total_move-i+1)\n",
    "        divide *= i\n",
    "    \n",
    "    return int(count/divide)\n",
    "    \n",
    "\n",
    "def uniqueParhs_(m, n):\n",
    "    if m<=1 or n<=1:\n",
    "        return 1\n",
    "    dp = [[] for _ in range(m)]\n",
    "    dp[0].append(0)\n",
    "    for i in range(1, n):\n",
    "        dp[0].append(1)\n",
    "    \n",
    "    for i in range(1, m):\n",
    "        dp[i].append(1)\n",
    "    \n",
    "    for i in range(1, m):\n",
    "        for j in range(1, n):\n",
    "            dp[i].append(dp[i-1][j] + dp[i][j-1])\n",
    "    return dp[-1][-1]\n",
    "    "
   ]
  },
  {
   "cell_type": "code",
   "execution_count": 14,
   "id": "soviet-isaac",
   "metadata": {},
   "outputs": [
    {
     "data": {
      "text/plain": [
       "28"
      ]
     },
     "execution_count": 14,
     "metadata": {},
     "output_type": "execute_result"
    }
   ],
   "source": [
    "uniquePaths(3, 7)"
   ]
  },
  {
   "cell_type": "code",
   "execution_count": 15,
   "id": "consolidated-hopkins",
   "metadata": {},
   "outputs": [
    {
     "data": {
      "text/plain": [
       "28"
      ]
     },
     "execution_count": 15,
     "metadata": {},
     "output_type": "execute_result"
    }
   ],
   "source": [
    "uniqueParhs_(3, 7)"
   ]
  },
  {
   "cell_type": "markdown",
   "id": "behavioral-restriction",
   "metadata": {},
   "source": [
    "### leetcode-70：爬楼梯"
   ]
  },
  {
   "cell_type": "code",
   "execution_count": 16,
   "id": "threaded-account",
   "metadata": {},
   "outputs": [],
   "source": [
    "def climbStairs(n):\n",
    "    if n == 1:\n",
    "        return 1\n",
    "    if n == 2:\n",
    "        return 2\n",
    "    dp = [0 for _ in range(n)]\n",
    "    dp[0] = 1\n",
    "    dp[1] = 2\n",
    "    for i in range(2, n):\n",
    "        dp[i] = dp[i-1] + dp[-2]\n",
    "    return dp[-1]"
   ]
  },
  {
   "cell_type": "markdown",
   "id": "pressing-conflict",
   "metadata": {},
   "source": [
    "### leetcode-72：编辑距离"
   ]
  },
  {
   "cell_type": "code",
   "execution_count": 19,
   "id": "divine-hardwood",
   "metadata": {},
   "outputs": [],
   "source": [
    "def minDistance(word1, word2):\n",
    "    m = len(word1)\n",
    "    n = len(word2)\n",
    "    \n",
    "    dp = [[0 for _ in range(n+1)] for _ in range(m+1)]\n",
    "    \n",
    "    # 处理第一行\n",
    "    for i in range(n+1):\n",
    "        dp[0][i] = i\n",
    "    \n",
    "    # 处理第一列\n",
    "    for i in range(m+1):\n",
    "        dp[i][0] = i\n",
    "        \n",
    "    # 处理剩余元素\n",
    "    for i in range(1, m+1):\n",
    "        for j in range(1, n+1):\n",
    "            if word1[i-1] == word2[j-1]:\n",
    "                dp[i][j] = dp[i-1][j-1]\n",
    "            else:\n",
    "                dp[i][j] = min(dp[i-1][j], dp[i][j-1], dp[i-1][j-1]) + 1\n",
    "    \n",
    "    return dp[-1][-1]"
   ]
  },
  {
   "cell_type": "code",
   "execution_count": 20,
   "id": "tight-scope",
   "metadata": {
    "scrolled": true
   },
   "outputs": [
    {
     "data": {
      "text/plain": [
       "2"
      ]
     },
     "execution_count": 20,
     "metadata": {},
     "output_type": "execute_result"
    }
   ],
   "source": [
    "minDistance(\"hello\", \"hlle\")"
   ]
  },
  {
   "cell_type": "markdown",
   "id": "sacred-affiliate",
   "metadata": {},
   "source": [
    "### leetcode-78：子集"
   ]
  },
  {
   "cell_type": "code",
   "execution_count": 23,
   "id": "opponent-jerusalem",
   "metadata": {},
   "outputs": [],
   "source": [
    "def subsets(nums):\n",
    "    res = []\n",
    "    temp = []\n",
    "    \n",
    "    dfs(res, temp, nums, 0)\n",
    "    return res\n",
    "\n",
    "def dfs(res, temp, nums, index):\n",
    "    \n",
    "    res.append(temp[:])\n",
    "    for i in range(index, len(nums)):\n",
    "        temp.append(nums[i])\n",
    "        dfs(res, temp, nums, i+1)\n",
    "        temp.pop(-1)"
   ]
  },
  {
   "cell_type": "code",
   "execution_count": 24,
   "id": "fiscal-rhythm",
   "metadata": {},
   "outputs": [
    {
     "data": {
      "text/plain": [
       "[[], [1], [1, 2], [1, 2, 3], [1, 3], [2], [2, 3], [3]]"
      ]
     },
     "execution_count": 24,
     "metadata": {},
     "output_type": "execute_result"
    }
   ],
   "source": [
    "subsets([1,2,3])"
   ]
  },
  {
   "cell_type": "markdown",
   "id": "neutral-shipping",
   "metadata": {},
   "source": [
    "### leetcode-88：合并两个有序数组"
   ]
  },
  {
   "cell_type": "code",
   "execution_count": 28,
   "id": "otherwise-index",
   "metadata": {},
   "outputs": [],
   "source": [
    "def merge(nums1, m, nums2, n):\n",
    "    i, j, k = m-1, n-1, m+n-1\n",
    "    \n",
    "    while i>=0 and j>=0:\n",
    "        if nums1[i] < nums2[j]:\n",
    "            nums1[k] = nums2[j]\n",
    "            j -= 1\n",
    "        else:\n",
    "            nums1[k] = nums1[i]\n",
    "            i -= 1\n",
    "        k -= 1\n",
    "        \n",
    "    nums1[:j + 1] = nums2[:j + 1]\n",
    "    return nums1"
   ]
  },
  {
   "cell_type": "code",
   "execution_count": 30,
   "id": "statistical-escape",
   "metadata": {},
   "outputs": [
    {
     "data": {
      "text/plain": [
       "[-1, 1, 1, 2, 3, 4, 0]"
      ]
     },
     "execution_count": 30,
     "metadata": {},
     "output_type": "execute_result"
    }
   ],
   "source": [
    "nums1 = [1,2,3,0,0,0,0]\n",
    "m = 3\n",
    "nums2 = [-1,1,4,6]\n",
    "n = 3\n",
    "merge(nums1, m, nums2, n)"
   ]
  },
  {
   "cell_type": "markdown",
   "id": "extensive-weight",
   "metadata": {},
   "source": [
    "### leetcode-74： 搜索二维矩阵"
   ]
  },
  {
   "cell_type": "code",
   "execution_count": 77,
   "id": "colored-input",
   "metadata": {},
   "outputs": [],
   "source": [
    "def searchMatrix(matrix, target):\n",
    "    row, left, right = 0, 0, len(matrix)\n",
    "    \n",
    "    while left < right:\n",
    "        mid = (left+right) // 2\n",
    "        \n",
    "        if target == matrix[mid][0]:\n",
    "            return True\n",
    "        elif target > matrix[mid][0]:\n",
    "            row = mid\n",
    "            left = mid + 1\n",
    "        else:\n",
    "            right = mid\n",
    "    print(\"target所在行为：\", row)\n",
    "    \n",
    "    l, r = 0, len(matrix[0])\n",
    "    \n",
    "    while l < r:\n",
    "        mid = (l+r) // 2\n",
    "        \n",
    "        if target == matrix[row][mid]:\n",
    "            return True\n",
    "        elif target > matrix[row][mid]:\n",
    "            l = mid + 1\n",
    "        else:\n",
    "            r = mid\n",
    "    return False"
   ]
  },
  {
   "cell_type": "code",
   "execution_count": 83,
   "id": "solved-throw",
   "metadata": {},
   "outputs": [
    {
     "name": "stdout",
     "output_type": "stream",
     "text": [
      "target所在行为： 0\n"
     ]
    },
    {
     "data": {
      "text/plain": [
       "True"
      ]
     },
     "execution_count": 83,
     "metadata": {},
     "output_type": "execute_result"
    }
   ],
   "source": [
    "matrix = [[1,3,5,7],[10,11,16,20],[23,30,34,50]]\n",
    "target = 3\n",
    "searchMatrix(matrix, target)"
   ]
  },
  {
   "cell_type": "markdown",
   "id": "encouraging-segment",
   "metadata": {},
   "source": [
    "### leetcode-92：反转链表II"
   ]
  },
  {
   "cell_type": "code",
   "execution_count": null,
   "id": "positive-awareness",
   "metadata": {},
   "outputs": [],
   "source": [
    "def reverseBetween(head, left, right):\n",
    "    "
   ]
  },
  {
   "cell_type": "markdown",
   "id": "enhanced-ordinance",
   "metadata": {},
   "source": [
    "### leetcode-102： 二叉树的层次遍历"
   ]
  },
  {
   "cell_type": "code",
   "execution_count": 19,
   "id": "interim-canon",
   "metadata": {},
   "outputs": [],
   "source": [
    "def level_order_as_list(root):\n",
    "    res = []\n",
    "    if not root:\n",
    "        return res\n",
    "    \n",
    "    queue = [root]\n",
    "    \n",
    "    while queue:\n",
    "        next_queue = []\n",
    "        res.append([])\n",
    "        \n",
    "        for node in queue:\n",
    "            res[-1].append(node.val)\n",
    "            \n",
    "            if node.left:\n",
    "                next_queue.append(node.left)\n",
    "            \n",
    "            if node.right:\n",
    "                next_queue.append(node.right)\n",
    "        \n",
    "        queue = next_queue\n",
    "    \n",
    "    return res"
   ]
  },
  {
   "cell_type": "markdown",
   "id": "surface-wrist",
   "metadata": {},
   "source": [
    "### leetcode-104： 二叉树的最大深度"
   ]
  },
  {
   "cell_type": "code",
   "execution_count": 1,
   "id": "decimal-press",
   "metadata": {},
   "outputs": [],
   "source": [
    "def max_height(root):\n",
    "    # 通过二叉树的层次遍历 每加一层 高度+1\n",
    "    \n",
    "    height = 0\n",
    "    \n",
    "    if not root:\n",
    "        return height\n",
    "    \n",
    "    queue = [root]\n",
    "    \n",
    "    while queue:\n",
    "        height += 1\n",
    "        for i in range(len(queue)):\n",
    "            cur_node = queue.pop(0)\n",
    "            \n",
    "            if cur_node.left:\n",
    "                queue.append(cur_node.left)\n",
    "            \n",
    "            if cur_node.right:\n",
    "                queue.append(cur_node.right)\n",
    "        \n",
    "    return height\n",
    "    "
   ]
  },
  {
   "cell_type": "markdown",
   "id": "sapphire-notification",
   "metadata": {},
   "source": [
    "### leetcode-206：反转链表"
   ]
  },
  {
   "cell_type": "code",
   "execution_count": 5,
   "id": "mature-capacity",
   "metadata": {},
   "outputs": [],
   "source": [
    "def reverseList(head):\n",
    "    if not head:\n",
    "        return head\n",
    "    \n",
    "    pre_node = None\n",
    "    cur_node = head\n",
    "    \n",
    "    while cur_node:\n",
    "        next_node = cur_node.next\n",
    "        cur_node.next = pre_node\n",
    "        \n",
    "        pre_node = cur_node\n",
    "        \n",
    "        cur_node = next_node\n",
    "    \n",
    "    return pre_node"
   ]
  },
  {
   "cell_type": "markdown",
   "id": "brave-personal",
   "metadata": {},
   "source": [
    "### leetcode-1143：最长公共子序列"
   ]
  },
  {
   "cell_type": "code",
   "execution_count": 54,
   "id": "latest-confidence",
   "metadata": {},
   "outputs": [],
   "source": [
    "def longestCommonSequence(s1, s2):\n",
    "    m, n = len(s1), len(s2)\n",
    "    \n",
    "    dp = [[0 for _ in range(n+1)] for _ in range(m+1)]\n",
    "    \n",
    "    for i in range(1, m+1):\n",
    "        for j in range(1, n+1):\n",
    "            if s1[i-1] == s2[j-1]:\n",
    "                dp[i][j] = dp[i-1][j-1] + 1\n",
    "            else:\n",
    "                dp[i][j] = max(dp[i-1][j], dp[i][j-1])\n",
    "                \n",
    "    return dp[m][n]"
   ]
  },
  {
   "cell_type": "code",
   "execution_count": null,
   "id": "other-somalia",
   "metadata": {},
   "outputs": [],
   "source": []
  },
  {
   "cell_type": "code",
   "execution_count": null,
   "id": "dominican-earth",
   "metadata": {},
   "outputs": [],
   "source": []
  },
  {
   "cell_type": "code",
   "execution_count": null,
   "id": "documentary-coach",
   "metadata": {},
   "outputs": [],
   "source": []
  },
  {
   "cell_type": "code",
   "execution_count": null,
   "id": "speaking-officer",
   "metadata": {},
   "outputs": [],
   "source": []
  },
  {
   "cell_type": "code",
   "execution_count": null,
   "id": "hidden-acrylic",
   "metadata": {},
   "outputs": [],
   "source": []
  },
  {
   "cell_type": "code",
   "execution_count": null,
   "id": "behavioral-mustang",
   "metadata": {},
   "outputs": [],
   "source": []
  },
  {
   "cell_type": "code",
   "execution_count": null,
   "id": "developing-small",
   "metadata": {},
   "outputs": [],
   "source": []
  }
 ],
 "metadata": {
  "kernelspec": {
   "display_name": "Python 3",
   "language": "python",
   "name": "python3"
  },
  "language_info": {
   "codemirror_mode": {
    "name": "ipython",
    "version": 3
   },
   "file_extension": ".py",
   "mimetype": "text/x-python",
   "name": "python",
   "nbconvert_exporter": "python",
   "pygments_lexer": "ipython3",
   "version": "3.9.2"
  },
  "toc": {
   "base_numbering": 1,
   "nav_menu": {},
   "number_sections": true,
   "sideBar": true,
   "skip_h1_title": false,
   "title_cell": "Table of Contents",
   "title_sidebar": "Contents",
   "toc_cell": false,
   "toc_position": {},
   "toc_section_display": true,
   "toc_window_display": false
  }
 },
 "nbformat": 4,
 "nbformat_minor": 5
}
