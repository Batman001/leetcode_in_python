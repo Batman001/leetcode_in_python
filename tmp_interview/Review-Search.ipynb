{
 "cells": [
  {
   "cell_type": "code",
   "execution_count": 1,
   "id": "sticky-enemy",
   "metadata": {},
   "outputs": [],
   "source": [
    "# 返回有序(升序) 重复 数组的第一个出现的位置\n",
    "def search_in_dup(array, target):\n",
    "    left, right = 0, len(array)-1\n",
    "    \n",
    "    # 二分查找 如果出现重复数字 向前继续查找 直到找到第一次出现的位置\n",
    "    while left < right:\n",
    "        mid = (left+right) // 2\n",
    "        \n",
    "        if target > array[mid]:\n",
    "            left = mid + 1\n",
    "        elif target < array[mid]:\n",
    "            right = mid - 1\n",
    "        else:\n",
    "            if mid - 1 > 0 and array[mid-1] == array[mid]:\n",
    "                mid = mid -1\n",
    "            return mid\n",
    "    \n",
    "    return -1\n",
    "        "
   ]
  },
  {
   "cell_type": "code",
   "execution_count": 2,
   "id": "arctic-piece",
   "metadata": {},
   "outputs": [],
   "source": [
    "nums = [-10, -9, 4, 5, 8, 10, 13, 13, 18, 90, 91, 99, 99]"
   ]
  },
  {
   "cell_type": "code",
   "execution_count": 5,
   "id": "proof-morrison",
   "metadata": {},
   "outputs": [
    {
     "data": {
      "text/plain": [
       "6"
      ]
     },
     "execution_count": 5,
     "metadata": {},
     "output_type": "execute_result"
    }
   ],
   "source": [
    "search_in_dup(nums, 13)"
   ]
  },
  {
   "cell_type": "code",
   "execution_count": null,
   "id": "opened-breach",
   "metadata": {},
   "outputs": [],
   "source": []
  }
 ],
 "metadata": {
  "kernelspec": {
   "display_name": "Python 3",
   "language": "python",
   "name": "python3"
  },
  "language_info": {
   "codemirror_mode": {
    "name": "ipython",
    "version": 3
   },
   "file_extension": ".py",
   "mimetype": "text/x-python",
   "name": "python",
   "nbconvert_exporter": "python",
   "pygments_lexer": "ipython3",
   "version": "3.9.2"
  },
  "toc": {
   "base_numbering": 1,
   "nav_menu": {},
   "number_sections": true,
   "sideBar": true,
   "skip_h1_title": false,
   "title_cell": "Table of Contents",
   "title_sidebar": "Contents",
   "toc_cell": false,
   "toc_position": {},
   "toc_section_display": true,
   "toc_window_display": false
  }
 },
 "nbformat": 4,
 "nbformat_minor": 5
}
