{
 "cells": [
  {
   "cell_type": "markdown",
   "id": "native-sally",
   "metadata": {},
   "source": [
    "### Array"
   ]
  },
  {
   "cell_type": "markdown",
   "id": "ceramic-light",
   "metadata": {},
   "source": [
    "#### 是否为回文字符串"
   ]
  },
  {
   "cell_type": "code",
   "execution_count": 1,
   "id": "sublime-oliver",
   "metadata": {},
   "outputs": [],
   "source": [
    "def is_palindrome(string):\n",
    "    # 去除非字母或者数字的其他字符\n",
    "    s = ''.join(filter(str.isalnum, string)).lower()\n",
    "    \n",
    "    left, right = 0, len(s)-1\n",
    "    \n",
    "    while left < right:\n",
    "        if s[left] != s[right]:\n",
    "            return False\n",
    "        left += 1\n",
    "        right -= 1\n",
    "    return True"
   ]
  },
  {
   "cell_type": "code",
   "execution_count": 2,
   "id": "serial-infrared",
   "metadata": {},
   "outputs": [
    {
     "data": {
      "text/plain": [
       "True"
      ]
     },
     "execution_count": 2,
     "metadata": {},
     "output_type": "execute_result"
    }
   ],
   "source": [
    "test_str = \"A man, a plan, a canal: Panama\"\n",
    "is_palindrome(test_str)"
   ]
  },
  {
   "cell_type": "markdown",
   "id": "elegant-geography",
   "metadata": {},
   "source": [
    "#### 寻找数组中的重复元素，只有一个元素重复"
   ]
  },
  {
   "cell_type": "code",
   "execution_count": 3,
   "id": "lovely-tract",
   "metadata": {},
   "outputs": [],
   "source": [
    "def find_duplicate(nums):\n",
    "    nums.sort()\n",
    "    \n",
    "    left, right = 0, len(nums)-1\n",
    "    target = 0\n",
    "    \n",
    "    while left < right:\n",
    "        if nums[left] == nums[left+1]:\n",
    "            target = num[left]\n",
    "            break\n",
    "        else:\n",
    "            left += 1\n",
    "        if nums[right] == nums[right-1]:\n",
    "            target = nums[right]\n",
    "            break\n",
    "        else:\n",
    "            right -= 1\n",
    "    return target"
   ]
  },
  {
   "cell_type": "markdown",
   "id": "wicked-supervision",
   "metadata": {},
   "source": [
    "#### 寻找升序matrix"
   ]
  },
  {
   "cell_type": "code",
   "execution_count": 4,
   "id": "decimal-observation",
   "metadata": {},
   "outputs": [],
   "source": [
    "def search_matrix(matrix, target):\n",
    "    \"\"\"\n",
    "    :type matrix: List[List[int]]\n",
    "    :type target: int\n",
    "    :rtype: bool\n",
    "    二分查找实现\n",
    "    step1: 先在第一列上二分查找，寻找目标值所在列\n",
    "    step2: 在目标列执行二分查找，判断target是否存在\n",
    "    \"\"\"\n",
    "    if matrix is None or matrix == [[]]:\n",
    "        return False\n",
    "    \n",
    "    row, left, right = 0, 0, len(matrix)\n",
    "    while left < right:\n",
    "        mid = (left+right) // 2\n",
    "        if target == matrix[mid][0]:\n",
    "            return True\n",
    "        elif target > matrix[mid][0]:\n",
    "            row = mid\n",
    "            left = mid + 1\n",
    "        else:\n",
    "            right = mid\n",
    "    \n",
    "    print(\"所在行数为：\", row)\n",
    "    l, r = 0, len(matrix[0])\n",
    "    \n",
    "    while l < r:\n",
    "        mid = (l+r) // 2\n",
    "        if target == matrix[row][mid]:\n",
    "            return True\n",
    "        elif target > matrix[row][mid]:\n",
    "            l = mid + 1\n",
    "        else:\n",
    "            r = mid\n",
    "    return False"
   ]
  },
  {
   "cell_type": "code",
   "execution_count": 5,
   "id": "baking-davis",
   "metadata": {},
   "outputs": [
    {
     "name": "stdout",
     "output_type": "stream",
     "text": [
      "所在行数为： 1\n"
     ]
    },
    {
     "data": {
      "text/plain": [
       "True"
      ]
     },
     "execution_count": 5,
     "metadata": {},
     "output_type": "execute_result"
    }
   ],
   "source": [
    "matrix = [[1,3,5,7],[10,11,16,20],[23,30,34,50]]\n",
    "target = 11\n",
    "search_matrix(matrix, target)"
   ]
  },
  {
   "cell_type": "markdown",
   "id": "authentic-wichita",
   "metadata": {},
   "source": [
    "### Tree"
   ]
  },
  {
   "cell_type": "code",
   "execution_count": 6,
   "id": "marine-massachusetts",
   "metadata": {},
   "outputs": [],
   "source": [
    "from graphviz import Digraph\n",
    "import random\n",
    "import uuid\n",
    "import os"
   ]
  },
  {
   "cell_type": "markdown",
   "id": "english-appeal",
   "metadata": {},
   "source": [
    "#### build tree"
   ]
  },
  {
   "cell_type": "code",
   "execution_count": 7,
   "id": "lovely-cabinet",
   "metadata": {},
   "outputs": [],
   "source": [
    "class TreeNode():\n",
    "    def __init__(self, val=None, left=None, right=None):\n",
    "        self.val = val\n",
    "        self.left = left\n",
    "        self.right = right\n",
    "        \n",
    "def create_tree_by_string(string):\n",
    "    string = string.strip()[1:-1]\n",
    "    \n",
    "    if len(string) == 0:\n",
    "        return None\n",
    "    \n",
    "    split_trees = string.split(',')\n",
    "    root = TreeNode(int(split_trees[0]))\n",
    "    \n",
    "    queue = [root]\n",
    "    index = 1\n",
    "    \n",
    "    # 其实质为层次遍历\n",
    "    while queue:\n",
    "        cur_node = queue.pop(0)\n",
    "        if index == len(split_trees):\n",
    "            break\n",
    "        \n",
    "        item = split_trees[index].strip()\n",
    "        index += 1\n",
    "        \n",
    "        if item != 'null':\n",
    "            cur_node.left = TreeNode(int(item))\n",
    "            queue.append(cur_node.left)\n",
    "        \n",
    "        if index == len(split_trees):\n",
    "            break\n",
    "        \n",
    "        item = split_trees[index].strip()\n",
    "        index += 1\n",
    "        \n",
    "        if item != 'null':\n",
    "            cur_node.right = TreeNode(int(item))\n",
    "            queue.append(cur_node.right)\n",
    "        \n",
    "    return root\n",
    "            "
   ]
  },
  {
   "cell_type": "markdown",
   "id": "expired-preliminary",
   "metadata": {},
   "source": [
    "#### 二叉树的遍历 "
   ]
  },
  {
   "cell_type": "code",
   "execution_count": 8,
   "id": "desperate-lindsay",
   "metadata": {},
   "outputs": [],
   "source": [
    "def pre_order(root):\n",
    "    if root is None:\n",
    "        return \n",
    "    print(root.val, end=' ')\n",
    "    pre_order(root.left)\n",
    "    pre_order(root.right)\n",
    "    \n",
    "\n",
    "\n",
    "def pre_order_(root):\n",
    "    res = []\n",
    "    if root is None:\n",
    "        return res\n",
    "    \n",
    "    stack = [root]\n",
    "    while stack:\n",
    "        cur_node = stack.pop()\n",
    "        res.append(cur_node.val)\n",
    "        print(cur_node.val, end=' ')\n",
    "        \n",
    "        if cur_node.right is not None:\n",
    "            stack.append(cur_node.right)\n",
    "        \n",
    "        if cur_node.left is not None:\n",
    "            stack.append(cur_node.left)\n",
    "\n",
    "            \n",
    "def in_order(root):\n",
    "    if root is None:\n",
    "        return \n",
    "    \n",
    "    in_order(root.left)\n",
    "    print(root.val, end=' ')\n",
    "    in_order(root.right)\n",
    "    \n",
    "\n",
    "def in_order_(root):\n",
    "    stack = []\n",
    "    \n",
    "    while stack or root:\n",
    "        \n",
    "        while root:\n",
    "            stack.append(root)\n",
    "            root = root.left\n",
    "        \n",
    "        if stack:\n",
    "            cur_node = stack.pop()\n",
    "            print(cur_node.val, end=' ')\n",
    "            root = cur_node.right\n",
    "\n",
    "\n",
    "            \n",
    "def post_order(root):\n",
    "    if root is None:\n",
    "        return\n",
    "    post_order(root.left)\n",
    "    post_order(root.right)\n",
    "    print(root.val, end=' ')\n",
    "    \n",
    "\n",
    "def post_order_(root):\n",
    "    stack = [root]\n",
    "    reverse_stack = []\n",
    "    \n",
    "    while stack:\n",
    "        node = stack.pop()\n",
    "        reverse_stack.append(node)\n",
    "        \n",
    "        if node.left:\n",
    "            stack.append(node.left)\n",
    "        \n",
    "        if node.right:\n",
    "            stack.append(node.right)\n",
    "    \n",
    "    \n",
    "    while reverse_stack:\n",
    "        cur_node = reverse_stack.pop()\n",
    "        print(cur_node.val, end=' ')\n",
    "\n",
    "# 层次非递归遍历\n",
    "def level_order(root):\n",
    "    res = []\n",
    "    queue = [root]\n",
    "    while queue:\n",
    "        cur_node = queue.pop(0)\n",
    "        print(cur_node.val, end=' ')\n",
    "        res.append(cur_node.val)\n",
    "        \n",
    "        if cur_node.left:\n",
    "            queue.append(cur_node.left)\n",
    "        \n",
    "        if cur_node.right:\n",
    "            queue.append(cur_node.right)\n",
    "\n",
    "    return res"
   ]
  },
  {
   "cell_type": "code",
   "execution_count": 9,
   "id": "careful-tumor",
   "metadata": {},
   "outputs": [],
   "source": [
    "def level_visit_as_list(root):\n",
    "    res = []\n",
    "    if not root:\n",
    "        return res\n",
    "    \n",
    "    queue = [root]\n",
    "    \n",
    "    while queue:\n",
    "        next_queue = []\n",
    "        res.append([])\n",
    "        \n",
    "        for node in queue:\n",
    "            \n",
    "            res[-1].append(node.val)\n",
    "            if node.left:\n",
    "                next_queue.append(node.left)\n",
    "            \n",
    "            if node.right:\n",
    "                next_queue.append(node.right)\n",
    "        queue = next_queue\n",
    "    \n",
    "    \n",
    "    return res"
   ]
  },
  {
   "cell_type": "code",
   "execution_count": 10,
   "id": "collectible-value",
   "metadata": {},
   "outputs": [],
   "source": [
    "array_string = \" [3, 5, 1,6, 2,0, 8,null,null,7,4]\"\n",
    "tree = create_tree_by_string(array_string)"
   ]
  },
  {
   "cell_type": "code",
   "execution_count": 11,
   "id": "exact-pastor",
   "metadata": {},
   "outputs": [
    {
     "name": "stdout",
     "output_type": "stream",
     "text": [
      "3 5 1 6 2 0 8 7 4 "
     ]
    },
    {
     "data": {
      "text/plain": [
       "[3, 5, 1, 6, 2, 0, 8, 7, 4]"
      ]
     },
     "execution_count": 11,
     "metadata": {},
     "output_type": "execute_result"
    }
   ],
   "source": [
    "level_order(tree)"
   ]
  },
  {
   "cell_type": "code",
   "execution_count": 12,
   "id": "ethical-holocaust",
   "metadata": {},
   "outputs": [
    {
     "data": {
      "text/plain": [
       "[[3], [5, 1], [6, 2, 0, 8], [7, 4]]"
      ]
     },
     "execution_count": 12,
     "metadata": {},
     "output_type": "execute_result"
    }
   ],
   "source": [
    "level_visit_as_list(tree)"
   ]
  },
  {
   "cell_type": "markdown",
   "id": "contemporary-individual",
   "metadata": {},
   "source": [
    "#### 二叉树funciton"
   ]
  },
  {
   "cell_type": "code",
   "execution_count": 13,
   "id": "minimal-buffalo",
   "metadata": {},
   "outputs": [],
   "source": [
    "def get_max_height(root):\n",
    "    if not root:\n",
    "        return 0\n",
    "    \n",
    "    height = 0\n",
    "    queue = [root]\n",
    "    \n",
    "    while queue:\n",
    "        height += 1\n",
    "        \n",
    "        # 这一层所有的节点 都要被pop出来\n",
    "        for i in range(len(queue)):\n",
    "            node = queue.pop(0)\n",
    "            if node.left:\n",
    "                queue.append(node.left)\n",
    "            if node.right:\n",
    "                queue.append(node.right)\n",
    "    \n",
    "    return height\n",
    "        "
   ]
  },
  {
   "cell_type": "code",
   "execution_count": 14,
   "id": "humanitarian-sleeve",
   "metadata": {},
   "outputs": [
    {
     "data": {
      "text/plain": [
       "4"
      ]
     },
     "execution_count": 14,
     "metadata": {},
     "output_type": "execute_result"
    }
   ],
   "source": [
    "get_max_height(tree)"
   ]
  },
  {
   "cell_type": "markdown",
   "id": "medium-acrylic",
   "metadata": {},
   "source": [
    "#### 二叉树的最长路径"
   ]
  },
  {
   "cell_type": "code",
   "execution_count": 45,
   "id": "herbal-designer",
   "metadata": {},
   "outputs": [],
   "source": [
    "def longest_path(root):\n",
    "    paths = []\n",
    "    \n",
    "    stack = [(root, str(root.val))]\n",
    "    \n",
    "    while stack:\n",
    "        node, path = stack.pop()\n",
    "        \n",
    "        # 如果该节点为叶子结点 则对路径进行封存，并存储至paths\n",
    "        if not node.left and not node.right:\n",
    "            \n",
    "            paths.append(path)\n",
    "        \n",
    "        if node.left:\n",
    "            stack.append((node.left, path + \"->\" + str(node.left.val)))\n",
    "        \n",
    "        if node.right:\n",
    "            stack.append((node.right, path + \"->\" + str(node.right.val)))\n",
    "    \n",
    "    return paths"
   ]
  },
  {
   "cell_type": "code",
   "execution_count": 46,
   "id": "literary-error",
   "metadata": {},
   "outputs": [
    {
     "data": {
      "text/plain": [
       "['3->1->8', '3->1->0', '3->5->2->4', '3->5->2->7', '3->5->6']"
      ]
     },
     "execution_count": 46,
     "metadata": {},
     "output_type": "execute_result"
    }
   ],
   "source": [
    "longest_path(tree)"
   ]
  },
  {
   "cell_type": "code",
   "execution_count": null,
   "id": "lyric-latitude",
   "metadata": {},
   "outputs": [],
   "source": []
  }
 ],
 "metadata": {
  "kernelspec": {
   "display_name": "Python 3",
   "language": "python",
   "name": "python3"
  },
  "language_info": {
   "codemirror_mode": {
    "name": "ipython",
    "version": 3
   },
   "file_extension": ".py",
   "mimetype": "text/x-python",
   "name": "python",
   "nbconvert_exporter": "python",
   "pygments_lexer": "ipython3",
   "version": "3.9.2"
  },
  "toc": {
   "base_numbering": 1,
   "nav_menu": {},
   "number_sections": true,
   "sideBar": true,
   "skip_h1_title": false,
   "title_cell": "Table of Contents",
   "title_sidebar": "Contents",
   "toc_cell": false,
   "toc_position": {},
   "toc_section_display": true,
   "toc_window_display": true
  }
 },
 "nbformat": 4,
 "nbformat_minor": 5
}
