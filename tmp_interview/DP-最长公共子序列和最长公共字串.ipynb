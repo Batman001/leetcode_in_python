{
 "cells": [
  {
   "cell_type": "markdown",
   "metadata": {
    "solution2": "hidden",
    "solution2_first": true
   },
   "source": [
    "### 最长公共子序列"
   ]
  },
  {
   "cell_type": "code",
   "execution_count": 3,
   "metadata": {},
   "outputs": [],
   "source": [
    "def max_sequence(s1, s2):\n",
    "    m = len(s1)\n",
    "    n = len(s2)\n",
    "    \n",
    "    dp = [[0 for _ in range(n+1)] for _ in range(m+1)]\n",
    "    \n",
    "    for i in range(1, m+1):\n",
    "        for j in range(1, n+1):\n",
    "            if s1[i-1] == s2[j-1]:\n",
    "                dp[i][j] = dp[i-1][j-1] + 1\n",
    "            else:\n",
    "                dp[i][j] = max(dp[i-1][j], dp[i][j-1])\n",
    "    return dp[m][n]"
   ]
  },
  {
   "cell_type": "code",
   "execution_count": 4,
   "metadata": {},
   "outputs": [
    {
     "data": {
      "text/plain": [
       "3"
      ]
     },
     "execution_count": 4,
     "metadata": {},
     "output_type": "execute_result"
    }
   ],
   "source": [
    "max_sequence(\"abc\", \"eabokc\")"
   ]
  },
  {
   "cell_type": "markdown",
   "metadata": {},
   "source": [
    "### 最长公共字串"
   ]
  },
  {
   "cell_type": "code",
   "execution_count": 3,
   "metadata": {},
   "outputs": [],
   "source": [
    "def max_sub_string(s1, s2):\n",
    "    m = len(s1)\n",
    "    n = len(s2)\n",
    "    \n",
    "    dp = [[0 for _ in range(n+1)] for _ in range(m+1)]\n",
    "    \n",
    "    for i in range(1, m+1):\n",
    "        for j in range(1, n+1):\n",
    "            if s1[i-1] == s2[j-1]:\n",
    "                dp[i][j] = dp[i-1][j-1] + 1\n",
    "            else:\n",
    "                dp[i][j] = 0\n",
    "    # 返回状态标识的最大值\n",
    "    \n",
    "    return max(map(max, dp))"
   ]
  },
  {
   "cell_type": "code",
   "execution_count": 4,
   "metadata": {},
   "outputs": [
    {
     "data": {
      "text/plain": [
       "3"
      ]
     },
     "execution_count": 4,
     "metadata": {},
     "output_type": "execute_result"
    }
   ],
   "source": [
    "max_sub_string(\"abc45\", \"bc4dsopfdskjb\")"
   ]
  },
  {
   "cell_type": "markdown",
   "metadata": {},
   "source": [
    "### 编辑距离"
   ]
  },
  {
   "cell_type": "code",
   "execution_count": 1,
   "metadata": {},
   "outputs": [],
   "source": [
    "def edit_distance(s1, s2):\n",
    "    m = len(s1)\n",
    "    n = len(s2)\n",
    "    \n",
    "    dp = [[0 for _ in range(n+1)] for _ in range(m+1)]\n",
    "    \n",
    "    # 处理第一行\n",
    "    for i in range(n+1):\n",
    "        dp[0][i] = i\n",
    "    \n",
    "    # 处理第一列\n",
    "    for j in range(m+1):\n",
    "        dp[j][0] = j\n",
    "        \n",
    "    # 处理剩下的字符串\n",
    "    for i in range(1, m+1):\n",
    "        for j in range(1, n+1):\n",
    "            if s1[i-1] == s2[j-1]:\n",
    "                dp[i][j] = dp[i-1][j-1]\n",
    "            else:\n",
    "                dp[i][j] = min(dp[i-1][j], dp[i][j-1], dp[i-1][j-1]) + 1\n",
    "                \n",
    "    return dp[m][n]"
   ]
  },
  {
   "cell_type": "code",
   "execution_count": 2,
   "metadata": {},
   "outputs": [
    {
     "data": {
      "text/plain": [
       "2"
      ]
     },
     "execution_count": 2,
     "metadata": {},
     "output_type": "execute_result"
    }
   ],
   "source": [
    "edit_distance(\"hello\", \"hlle\")"
   ]
  },
  {
   "cell_type": "markdown",
   "metadata": {},
   "source": [
    "### 青蛙爬楼梯"
   ]
  },
  {
   "cell_type": "code",
   "execution_count": 7,
   "metadata": {},
   "outputs": [],
   "source": [
    "def climb_stair(n):\n",
    "    if n == 0:\n",
    "        return 1\n",
    "    \n",
    "    if n == 1:\n",
    "        return 1\n",
    "    \n",
    "    if n == 2:\n",
    "        return 2\n",
    "    \n",
    "    dp = [[] for _ in range(n)]\n",
    "    \n",
    "    dp[0] = 1\n",
    "    dp[1] = 1\n",
    "    \n",
    "    for i in range(2, n):\n",
    "        dp[i] = dp[i-1] + dp[i-2]\n",
    "    \n",
    "    return dp[n-1]\n",
    "\n",
    "    "
   ]
  },
  {
   "cell_type": "code",
   "execution_count": 8,
   "metadata": {},
   "outputs": [
    {
     "data": {
      "text/plain": [
       "3"
      ]
     },
     "execution_count": 8,
     "metadata": {},
     "output_type": "execute_result"
    }
   ],
   "source": [
    "climb_stair(4)"
   ]
  },
  {
   "cell_type": "markdown",
   "metadata": {},
   "source": [
    "### 背包问题"
   ]
  },
  {
   "cell_type": "code",
   "execution_count": 9,
   "metadata": {},
   "outputs": [],
   "source": [
    "def bag(n, cap, weights, values):\n",
    "    \"\"\"\n",
    "    背包问题 在cap允许的范围内 选用价值更多的东西\n",
    "    :param n: 物品数量 编号从1开始\n",
    "    :param cap: 背包可以承重的最高质量\n",
    "    :param weights: 每个物品的质量 按照编号顺序\n",
    "    :param values:  每个物品的价值 按照编号顺序\n",
    "    :return: 返回最大价值\n",
    "    \"\"\"\n",
    "    dp = [[0 for _ in range(cap+1)] for _ in range(n+1)]\n",
    "    \n",
    "    for i in range(1, n+1):\n",
    "        for j in range(1, cap+1):\n",
    "            # 相当于不放东西进入背包里\n",
    "            if j < weights[i]:\n",
    "                dp[i][j] = dp[i-1][j]\n",
    "            \n",
    "            # 否则比较 不放东西到背包里的价值 与 丢掉一件东西 放入背包里的价值进行对比\n",
    "            else:\n",
    "                dp[i][j] = max(dp[i-1][j], dp[i-1][j-weights[i]] + values[i])\n",
    "    \n",
    "    return max(map(max, dp))\n",
    "    "
   ]
  },
  {
   "cell_type": "code",
   "execution_count": 10,
   "metadata": {},
   "outputs": [
    {
     "name": "stdout",
     "output_type": "stream",
     "text": [
      "15\n"
     ]
    }
   ],
   "source": [
    "num_things = 4    # 一共有4件物品\n",
    "capacity = 12\n",
    "weights = {1: 2, 2: 3, 3: 4, 4: 5}\n",
    "values = {1: 3, 2: 4, 3: 5, 4: 6}\n",
    "print(bag(num_things, capacity, weights, values))"
   ]
  },
  {
   "cell_type": "markdown",
   "metadata": {},
   "source": [
    "### coin change"
   ]
  },
  {
   "cell_type": "code",
   "execution_count": 7,
   "metadata": {},
   "outputs": [],
   "source": [
    "def coin_change(coins, amount):\n",
    "    if amount <= 0:\n",
    "        return -1\n",
    "    \n",
    "    dp = [0 for _ in range(amount+1)]\n",
    "    \n",
    "    for i in range(1, amount+1):\n",
    "        # 设置这些零钱需要多少张钱币\n",
    "        cost = float('inf')\n",
    "        \n",
    "        for coin in coins:\n",
    "            if i - coin >= 0:\n",
    "                cost = min(cost, dp[i-coin] + 1)\n",
    "        dp[i] = cost\n",
    "        \n",
    "    if dp[amount] == float('inf'):\n",
    "        return -1\n",
    "    return dp[amount]"
   ]
  },
  {
   "cell_type": "code",
   "execution_count": 9,
   "metadata": {},
   "outputs": [
    {
     "data": {
      "text/plain": [
       "5"
      ]
     },
     "execution_count": 9,
     "metadata": {},
     "output_type": "execute_result"
    }
   ],
   "source": [
    "coins = [1, 2, 5, 10, 20, 50, 100]\n",
    "amount = 182\n",
    "coin_change(coins, amount)"
   ]
  },
  {
   "cell_type": "code",
   "execution_count": 14,
   "metadata": {},
   "outputs": [],
   "source": [
    "def coin_change(coins, amount):\n",
    "    if amount <= 0:\n",
    "        return -1\n",
    "    \n",
    "    dp = [0 for _ in range(amount+1)]\n",
    "    for i in range(1, amount+1):\n",
    "        cost = float('inf')\n",
    "        \n",
    "        for coin in coins:\n",
    "            if i-coin >= 0:\n",
    "                cost = min(cost, dp[i-coin] + 1)\n",
    "        dp[i] = cost\n",
    "    \n",
    "    if dp[amount] == float('inf'):\n",
    "        return -1\n",
    "    return dp[amount]"
   ]
  },
  {
   "cell_type": "code",
   "execution_count": 15,
   "metadata": {},
   "outputs": [
    {
     "data": {
      "text/plain": [
       "5"
      ]
     },
     "execution_count": 15,
     "metadata": {},
     "output_type": "execute_result"
    }
   ],
   "source": [
    "coins = [1, 2, 5, 10, 20, 50, 100]\n",
    "amount = 182\n",
    "coin_change(coins, amount)"
   ]
  },
  {
   "cell_type": "code",
   "execution_count": null,
   "metadata": {},
   "outputs": [],
   "source": []
  }
 ],
 "metadata": {
  "kernelspec": {
   "display_name": "Python 3",
   "language": "python",
   "name": "python3"
  },
  "language_info": {
   "codemirror_mode": {
    "name": "ipython",
    "version": 3
   },
   "file_extension": ".py",
   "mimetype": "text/x-python",
   "name": "python",
   "nbconvert_exporter": "python",
   "pygments_lexer": "ipython3",
   "version": "3.7.0"
  },
  "toc": {
   "base_numbering": 1,
   "nav_menu": {},
   "number_sections": true,
   "sideBar": true,
   "skip_h1_title": false,
   "title_cell": "Table of Contents",
   "title_sidebar": "Contents",
   "toc_cell": false,
   "toc_position": {},
   "toc_section_display": true,
   "toc_window_display": false
  }
 },
 "nbformat": 4,
 "nbformat_minor": 5
}
