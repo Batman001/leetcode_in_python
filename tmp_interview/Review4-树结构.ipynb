{
 "cells": [
  {
   "cell_type": "code",
   "execution_count": 1,
   "id": "ideal-terry",
   "metadata": {},
   "outputs": [
    {
     "name": "stdout",
     "output_type": "stream",
     "text": [
      "Character:C freq:2    encoding: 10100\n",
      "Character:G freq:2    encoding: 10101\n",
      "Character:E freq:3    encoding: 0000\n",
      "Character:K freq:3    encoding: 0001\n",
      "Character:B freq:4    encoding: 0100\n",
      "Character:F freq:4    encoding: 0101\n",
      "Character:I freq:4    encoding: 0110\n",
      "Character:J freq:4    encoding: 0111\n",
      "Character:D freq:5    encoding: 1011\n",
      "Character:H freq:6    encoding: 1110\n",
      "Character:N freq:6    encoding: 1111\n",
      "Character:L freq:7    encoding: 001\n",
      "Character:M freq:9    encoding: 100\n",
      "Character:A freq:10   encoding: 110\n"
     ]
    }
   ],
   "source": [
    "# -*- coding: utf-8 -*-\n",
    "\n",
    "# This class is the process of the haffman\n",
    "class Node:\n",
    "    def __init__(self, freq):\n",
    "        self.left = None\n",
    "        self.right = None\n",
    "        self.father = None\n",
    "        self.freq = freq\n",
    "\n",
    "    def isLeft(self):\n",
    "        return self.father.left == self\n",
    "\n",
    "\n",
    "# create nodes创建叶子节点\n",
    "def createNodes(freqs):\n",
    "    return [Node(freq) for freq in freqs]\n",
    "\n",
    "\n",
    "# create Huffman-Tree创建Huffman树\n",
    "def createHuffmanTree(nodes):\n",
    "    queue = nodes[:]\n",
    "    while len(queue) > 1:\n",
    "        queue.sort(key=lambda item: item.freq)\n",
    "        node_left = queue.pop(0)\n",
    "        node_right = queue.pop(0)\n",
    "        node_father = Node(node_left.freq + node_right.freq)\n",
    "        node_father.left = node_left\n",
    "        node_father.right = node_right\n",
    "        node_left.father = node_father\n",
    "        node_right.father = node_father\n",
    "        queue.append(node_father)\n",
    "    queue[0].father = None\n",
    "    return queue[0]\n",
    "\n",
    "\n",
    "# Huffman编码\n",
    "def huffmanEncoding(nodes, root):\n",
    "    codes = [''] * len(nodes)\n",
    "    for i in range(len(nodes)):\n",
    "        node_tmp = nodes[i]\n",
    "        while node_tmp != root:\n",
    "            if node_tmp.isLeft():\n",
    "                codes[i] = '0' + codes[i]\n",
    "            else:\n",
    "                codes[i] = '1' + codes[i]\n",
    "            node_tmp = node_tmp.father\n",
    "    return codes\n",
    "\n",
    "\n",
    "if __name__ == '__main__':\n",
    "    # chars = ['A','B','C','D','E','F','G','H','I','J','K','L','M','N']\n",
    "    # freqs = [10,4,2,5,3,4,2,6,4,4,3,7,9,6]\n",
    "    chars_freqs = [('C', 2), ('G', 2), ('E', 3), ('K', 3), ('B', 4),\n",
    "                   ('F', 4), ('I', 4), ('J', 4), ('D', 5), ('H', 6),\n",
    "                   ('N', 6), ('L', 7), ('M', 9), ('A', 10)]\n",
    "    nodes = createNodes([item[1] for item in chars_freqs])\n",
    "    root = createHuffmanTree(nodes)\n",
    "    codes = huffmanEncoding(nodes, root)\n",
    "    for item in zip(chars_freqs, codes):\n",
    "        print('Character:%s freq:%-2d   encoding: %s' % (item[0][0], item[0][1], item[1]))\n"
   ]
  },
  {
   "cell_type": "code",
   "execution_count": null,
   "id": "eight-nirvana",
   "metadata": {},
   "outputs": [],
   "source": []
  }
 ],
 "metadata": {
  "kernelspec": {
   "display_name": "Python 3",
   "language": "python",
   "name": "python3"
  },
  "language_info": {
   "codemirror_mode": {
    "name": "ipython",
    "version": 3
   },
   "file_extension": ".py",
   "mimetype": "text/x-python",
   "name": "python",
   "nbconvert_exporter": "python",
   "pygments_lexer": "ipython3",
   "version": "3.9.2"
  },
  "toc": {
   "base_numbering": 1,
   "nav_menu": {},
   "number_sections": true,
   "sideBar": true,
   "skip_h1_title": false,
   "title_cell": "Table of Contents",
   "title_sidebar": "Contents",
   "toc_cell": false,
   "toc_position": {},
   "toc_section_display": true,
   "toc_window_display": false
  }
 },
 "nbformat": 4,
 "nbformat_minor": 5
}
