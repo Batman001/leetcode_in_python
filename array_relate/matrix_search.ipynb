{
 "cells": [
  {
   "cell_type": "code",
   "execution_count": 1,
   "metadata": {},
   "outputs": [],
   "source": [
    "def searchMatrix(matrix, target):\n",
    "        \"\"\"\n",
    "        :type matrix: List[List[int]]\n",
    "        :type target: int\n",
    "        :rtype: bool\n",
    "        \"\"\"\n",
    "        if matrix is None or matrix == [[]]:\n",
    "            return False\n",
    "        \n",
    "        left, right = 0, len(matrix)\n",
    "        \n",
    "        while left < right:\n",
    "            mid = (left + right) // 2\n",
    "            if matrix[mid][0] == target:\n",
    "                return True\n",
    "            elif matrix[mid][0] < target:\n",
    "                left += 1\n",
    "            else:\n",
    "                right = mid\n",
    "        \n",
    "        # target_row 用参数tmp表示\n",
    "        tmp = mid\n",
    "        \n",
    "        l, r = 0, len(matrix[0])\n",
    "        \n",
    "        while l < r:\n",
    "            mid = (l + r) // 2\n",
    "            if matrix[tmp][mid] == target:\n",
    "                return True\n",
    "            elif matrix[tmp][mid] < target:\n",
    "                l = mid + 1\n",
    "            else:\n",
    "                r = mid\n",
    "        return False"
   ]
  },
  {
   "cell_type": "code",
   "execution_count": 2,
   "metadata": {},
   "outputs": [],
   "source": [
    "matrix = [[1,3,5,7],[10,11,16,20],[23,30,34,50]]\n",
    "target = 30"
   ]
  },
  {
   "cell_type": "code",
   "execution_count": 3,
   "metadata": {},
   "outputs": [
    {
     "data": {
      "text/plain": [
       "True"
      ]
     },
     "execution_count": 3,
     "metadata": {},
     "output_type": "execute_result"
    }
   ],
   "source": [
    "searchMatrix(matrix, target)"
   ]
  },
  {
   "cell_type": "code",
   "execution_count": null,
   "metadata": {},
   "outputs": [],
   "source": []
  }
 ],
 "metadata": {
  "kernelspec": {
   "display_name": "Python 3",
   "language": "python",
   "name": "python3"
  },
  "language_info": {
   "codemirror_mode": {
    "name": "ipython",
    "version": 3
   },
   "file_extension": ".py",
   "mimetype": "text/x-python",
   "name": "python",
   "nbconvert_exporter": "python",
   "pygments_lexer": "ipython3",
   "version": "3.9.2"
  },
  "toc": {
   "base_numbering": 1,
   "nav_menu": {},
   "number_sections": true,
   "sideBar": true,
   "skip_h1_title": false,
   "title_cell": "Table of Contents",
   "title_sidebar": "Contents",
   "toc_cell": false,
   "toc_position": {},
   "toc_section_display": true,
   "toc_window_display": false
  }
 },
 "nbformat": 4,
 "nbformat_minor": 2
}
