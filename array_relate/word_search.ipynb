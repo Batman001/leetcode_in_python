{
 "cells": [
  {
   "cell_type": "markdown",
   "metadata": {},
   "source": [
    "# Array 搜索算法 Leetcode79\n",
    "\n",
    "> ## [单词搜索](https://leetcode-cn.com/problems/word-search/)\n",
    ">> ## 给定一个二维网格和一个单词，找出该单词是否存在于网格中\n",
    "***\n",
    "> ### 单词必须按照字母顺序，通过相邻的单元格内的字母构成，其中“相邻”单元格是那些水平相邻或垂直相邻的单元格。同一个单元格内的字母不允许被重复使用。\n",
    "***\n",
    "\n",
    "\n",
    "> ## 示例\n",
    "```\n",
    "board =\n",
    "[\n",
    "  ['A','B','C','E'],\n",
    "  ['S','F','C','S'],\n",
    "  ['A','D','E','E']\n",
    "]\n",
    "```\n",
    "> ## 给定 word = \"ABCCED\", 返回 true.\n",
    "> ## 给定 word = \"SEE\", 返回 true.\n",
    "> ## 给定 word = \"ABCB\", 返回 false.\n",
    "\n",
    "## 解决方法 [回溯参考博客](https://blog.csdn.net/qq_38575545/article/details/87607672)"
   ]
  },
  {
   "cell_type": "code",
   "execution_count": 1,
   "metadata": {
    "collapsed": true
   },
   "outputs": [],
   "source": [
    "class Solution(object):\n",
    "    def exist(self, board, word):\n",
    "        \"\"\"\n",
    "        :type board: List[List[str]]\n",
    "        :type word: str\n",
    "        :rtype: bool\n",
    "        \"\"\"\n",
    "        if not board:\n",
    "            return False\n",
    "        m = len(board)\n",
    "        n = len(board[0])\n",
    "        visited = [[False for _ in range(n)] for _ in range(m)]\n",
    "        for i in range(m):\n",
    "            for j in range(n):\n",
    "                if self.dfs(board, word, 0, i, j, visited):\n",
    "                    return True\n",
    "        return False\n",
    "\n",
    "    def dfs(self,board, word, index, row_index, col_index, visited):\n",
    "        if index == len(word):\n",
    "            return True\n",
    "        if row_index < 0 or col_index < 0 or row_index >= len(board) or col_index >= len(board[0]):\n",
    "            return False\n",
    "        if visited[row_index][col_index]:\n",
    "            return False\n",
    "        if board[row_index][col_index] != word[index]:\n",
    "            return False\n",
    "        visited[row_index][col_index] = True\n",
    "        res = self.dfs(board, word, index + 1, row_index - 1, col_index, visited) or self.dfs(board, word, index + 1, row_index + 1, col_index,visited) or self.dfs(board, word, index + 1,row_index,col_index + 1, visited) or self.dfs(board, word, index + 1, row_index, col_index - 1, visited)\n",
    "        visited[row_index][col_index] = False\n",
    "        return res"
   ]
  },
  {
   "cell_type": "code",
   "execution_count": null,
   "metadata": {
    "collapsed": true
   },
   "outputs": [],
   "source": []
  }
 ],
 "metadata": {
  "kernelspec": {
   "display_name": "Python 3",
   "language": "python",
   "name": "python3"
  },
  "language_info": {
   "codemirror_mode": {
    "name": "ipython",
    "version": 3
   },
   "file_extension": ".py",
   "mimetype": "text/x-python",
   "name": "python",
   "nbconvert_exporter": "python",
   "pygments_lexer": "ipython3",
   "version": "3.6.1"
  }
 },
 "nbformat": 4,
 "nbformat_minor": 2
}
