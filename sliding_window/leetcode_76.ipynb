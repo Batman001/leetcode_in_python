{
 "cells": [
  {
   "cell_type": "code",
   "execution_count": 1,
   "metadata": {
    "collapsed": true
   },
   "outputs": [],
   "source": [
    "import collections\n",
    "class Solution:\n",
    "\n",
    "    def minWindow(self, s, t):\n",
    "\n",
    "        count = collections.Counter(t)  # 统计字符串 t 中字符出现的次数\n",
    "        miss = len(t)  # miss 负责记录 当前窗口是否满足条件\n",
    "        i = m = n = 0\n",
    "        for j, v in enumerate(s, start=1):  # 向右滑动或扩展\n",
    "            miss -= (count[v] > 0)\n",
    "            count[v] -= 1\n",
    "            if not miss:  # 当前窗口满足条件\n",
    "                while i < j and count[s[i]] < 0:  # 左边界收缩\n",
    "                    count[s[i]] += 1\n",
    "                    i += 1\n",
    "                if not n or j-i <= n-m:  # 更新新的窗口\n",
    "                    n, m = j, i\n",
    "        return s[m:n]\n"
   ]
  },
  {
   "cell_type": "code",
   "execution_count": null,
   "metadata": {
    "collapsed": true
   },
   "outputs": [],
   "source": []
  }
 ],
 "metadata": {
  "kernelspec": {
   "display_name": "Python 3",
   "language": "python",
   "name": "python3"
  },
  "language_info": {
   "codemirror_mode": {
    "name": "ipython",
    "version": 3
   },
   "file_extension": ".py",
   "mimetype": "text/x-python",
   "name": "python",
   "nbconvert_exporter": "python",
   "pygments_lexer": "ipython3",
   "version": "3.6.1"
  },
  "pycharm": {
   "stem_cell": {
    "cell_type": "raw",
    "source": [],
    "metadata": {
     "collapsed": false
    }
   }
  }
 },
 "nbformat": 4,
 "nbformat_minor": 2
}