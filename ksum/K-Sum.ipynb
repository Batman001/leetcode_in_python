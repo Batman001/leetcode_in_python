{
 "cells": [
  {
   "cell_type": "code",
   "execution_count": 1,
   "metadata": {
    "collapsed": true
   },
   "outputs": [],
   "source": [
    "def threeSum(nums):\n",
    "    result = []\n",
    "    # 先对列表进行排序\n",
    "    nums.sort()\n",
    "    length = len(nums)\n",
    "    result = []\n",
    "    # 首先确定第一个固定数字\n",
    "    for i in range(length-2):\n",
    "        # 第一个固定数字跳过重复的值\n",
    "        # if(i==0) 在nums[i] - nums[i-1] 会报错\n",
    "        if i==0 or nums[i] > nums[i-1]:\n",
    "            first_number = nums[i]\n",
    "            left = i+1\n",
    "            right = length-1\n",
    "            while left<right:\n",
    "                if nums[left] + nums[right] == 0-first_number:\n",
    "                    result.append([first_number, nums[left], nums[right]])\n",
    "                    left += 1\n",
    "                    right -=1\n",
    "                elif nums[left] + nums[right] < 0-first_number:\n",
    "                    left +=1\n",
    "                else:\n",
    "                    right -=1\n",
    "    # 删除重复的数组\n",
    "    result = list(set([tuple(t) for t in result]))\n",
    "    result = [list(v) for v in result]\n",
    "    return result"
   ]
  },
  {
   "cell_type": "code",
   "execution_count": 2,
   "metadata": {},
   "outputs": [
    {
     "data": {
      "text/plain": [
       "[[-1, -1, 2], [-1, 0, 1]]"
      ]
     },
     "execution_count": 2,
     "metadata": {},
     "output_type": "execute_result"
    }
   ],
   "source": [
    "threeSum([-1, 0, 1, 2, -1, -4])"
   ]
  },
  {
   "cell_type": "code",
   "execution_count": 11,
   "metadata": {
    "collapsed": true
   },
   "outputs": [],
   "source": [
    "def fourSum(nums, target):\n",
    "    if nums == [] or len(nums) <4 :\n",
    "        return []\n",
    "    result = []\n",
    "    nums.sort()\n",
    "    length = len(nums)\n",
    "    for i in range(length-3):\n",
    "        if i!=0 and nums[i] == nums[i-1]:\n",
    "            continue\n",
    "        for j in range(i+1,length-2):\n",
    "            if j!=i+1 and nums[j] == nums[j-1]:\n",
    "                continue\n",
    "            left = j+1\n",
    "            right = length-1\n",
    "            while left<right:\n",
    "                if nums[i] + nums[j] + nums[left] + nums[right] == target:\n",
    "                    result.append([nums[i], nums[j], nums[left], nums[right]])\n",
    "                    while left<right and nums[left] == nums[left+1]:\n",
    "                        left += 1\n",
    "                    while left<right and nums[right] == nums[right-1]:\n",
    "                        right -= 1\n",
    "                    left += 1\n",
    "                    right -= 1\n",
    "                elif nums[i] + nums[j] + nums[left] + nums[right] > target:\n",
    "                    right -= 1\n",
    "                else:\n",
    "                    left += 1\n",
    "    return result"
   ]
  },
  {
   "cell_type": "code",
   "execution_count": 12,
   "metadata": {},
   "outputs": [
    {
     "data": {
      "text/plain": [
       "[[-5, -4, -4, 0], [-5, -4, -2, -2]]"
      ]
     },
     "execution_count": 12,
     "metadata": {},
     "output_type": "execute_result"
    }
   ],
   "source": [
    "fourSum([-5,-2,-4,-2,-5,-4,0,0],-13)"
   ]
  },
  {
   "cell_type": "code",
   "execution_count": null,
   "metadata": {
    "collapsed": true
   },
   "outputs": [],
   "source": [
    ""
   ]
  }
 ],
 "metadata": {
  "kernelspec": {
   "display_name": "Python 3",
   "language": "python",
   "name": "python3"
  },
  "language_info": {
   "codemirror_mode": {
    "name": "ipython",
    "version": 3.0
   },
   "file_extension": ".py",
   "mimetype": "text/x-python",
   "name": "python",
   "nbconvert_exporter": "python",
   "pygments_lexer": "ipython3",
   "version": "3.6.1"
  }
 },
 "nbformat": 4,
 "nbformat_minor": 0
}