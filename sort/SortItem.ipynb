{
 "cells": [
  {
   "cell_type": "code",
   "execution_count": 1,
   "metadata": {
    "collapsed": true
   },
   "outputs": [],
   "source": [
    "def quickSort(array, left, right):\n",
    "    if left>=right:\n",
    "        return array\n",
    "    low = left\n",
    "    high = right\n",
    "    key = array[left]\n",
    "    while left<right:\n",
    "        while left<right and array[right]>key:\n",
    "            right -= 1\n",
    "        array[left] = array[right]\n",
    "        while left<right and array[left]<key:\n",
    "            left += 1\n",
    "        array[right] = array[left]\n",
    "    array[left] = key\n",
    "    quickSort(array,low,left-1)\n",
    "    quickSort(array,left+1,high)\n",
    "    return array"
   ]
  },
  {
   "cell_type": "code",
   "execution_count": 12,
   "metadata": {
    "collapsed": true
   },
   "outputs": [],
   "source": [
    "def merge(left, right):\n",
    "    i,j=0,0\n",
    "    result = []\n",
    "    while i<len(left) and j < len(right):\n",
    "        if left[i]<right[j]:\n",
    "            result.append(left[i])\n",
    "            i+=1\n",
    "        else:\n",
    "            result.append(right[j])\n",
    "            j+=1\n",
    "    result += left[i:]\n",
    "    result += right[j:]\n",
    "    return result\n",
    "\n",
    "def merge_sort(array):\n",
    "    if len(array) == 1:\n",
    "        return array\n",
    "    mid = int(len(array)/2)\n",
    "    left = merge_sort(array[:mid])\n",
    "    right = merge_sort(array[mid:])\n",
    "    return merge(left,right)"
   ]
  },
  {
   "cell_type": "code",
   "execution_count": 19,
   "metadata": {},
   "outputs": [
    {
     "name": "stdout",
     "output_type": "stream",
     "text": [
      "[-8, 2, 3, 6, 9, 78, 346, 980, 34783]\n",
      "CPU times: user 347 µs, sys: 301 µs, total: 648 µs\n",
      "Wall time: 427 µs\n"
     ]
    }
   ],
   "source": [
    "array = [3,2,9,6,-8,78,346,980,34783]\n",
    "%time print(quickSort(array, 0, len(array)-1))"
   ]
  },
  {
   "cell_type": "code",
   "execution_count": 20,
   "metadata": {},
   "outputs": [
    {
     "name": "stdout",
     "output_type": "stream",
     "text": [
      "[-8, 2, 3, 6, 9, 78, 346, 980, 34783]\n",
      "CPU times: user 381 µs, sys: 240 µs, total: 621 µs\n",
      "Wall time: 471 µs\n"
     ]
    }
   ],
   "source": [
    "array = [3,2,9,6,-8,78,346,980,34783]\n",
    "%time print(merge_sort(array))"
   ]
  },
  {
   "cell_type": "code",
   "execution_count": 31,
   "metadata": {},
   "outputs": [],
   "source": [
    "def buildHeap(heap):\n",
    "    heap_size = len(heap)\n",
    "    for i in range(int((heap_size)/2)-1,-1,-1):\n",
    "        Maxify(heap, i)\n",
    "'''\n",
    "维护一个大根堆，即父节点的值大于两个子节点的值\n",
    "'''\n",
    "def heap_sort(heap):\n",
    "    result = []\n",
    "    for i in range(len(heap)):\n",
    "        heap_size = len(heap)\n",
    "        heap[0],heap[heap_size-1] = heap[heap_size-1],heap[0]\n",
    "        result.insert(0,heap.pop())\n",
    "        Maxify(heap,0)\n",
    "    return result\n",
    "\n",
    "def left_index(index):\n",
    "    return 2*index + 1\n",
    "def right_index(index):\n",
    "    return 2*index+2\n",
    "'''\n",
    "maxify方法动态调整堆，使得堆始终保持根节点的值大于左右孩子节点值\n",
    "结束条件： 如果largest等于i说明i是最大元素 或者 largest超出heap范围 说明不存在比i节点大的孩子节点\n",
    "\n",
    "调整完当前根节点之后，递归调用maxify方法\n",
    "直到最小值\n",
    "'''\n",
    "def Maxify(heap,index):\n",
    "    left = left_index(index)\n",
    "    right = right_index(index)\n",
    "    heap_size = len(heap)\n",
    "    if(left<heap_size and heap[left]>heap[index]):\n",
    "        largest = left\n",
    "    else:\n",
    "        largest = index\n",
    "    if (right<heap_size and heap[right]>heap[largest]):\n",
    "        largest = right\n",
    "    if(largest == index or largest >= heap_size):\n",
    "        return\n",
    "    heap[index],heap[largest] = heap[largest],heap[index]\n",
    "    Maxify(heap, largest)"
   ]
  },
  {
   "cell_type": "code",
   "execution_count": 32,
   "metadata": {},
   "outputs": [
    {
     "name": "stdout",
     "output_type": "stream",
     "text": [
      "CPU times: user 21 µs, sys: 1 µs, total: 22 µs\n",
      "Wall time: 24.1 µs\n",
      "[-8, 2, 3, 6, 9, 78, 346, 980, 34783]\n",
      "CPU times: user 415 µs, sys: 377 µs, total: 792 µs\n",
      "Wall time: 450 µs\n"
     ]
    }
   ],
   "source": [
    "array = [3,2,9,6,-8,78,346,980,34783]\n",
    "%time buildHeap(array)\n",
    "%time print(heap_sort(array))"
   ]
  },
  {
   "cell_type": "code",
   "execution_count": 47,
   "metadata": {},
   "outputs": [],
   "source": [
    "def minWindow(s, t):\n",
    "    count1 = {}\n",
    "    count2 = {}\n",
    "    for char in t:\n",
    "        if char not in count1:\n",
    "            count1[char] = 1\n",
    "            count2[char] = 1\n",
    "        else:\n",
    "            count1[char] += 1\n",
    "            count2[char] += 1\n",
    "    count = len(t)\n",
    "    start = 0\n",
    "    minSize = len(s) + 1\n",
    "    minStart = 0\n",
    "\n",
    "    for end in range(len(s)):\n",
    "        if s[end] in count2 and count2[s[end]] > 0:\n",
    "            count1[s[end]] -= 1\n",
    "            if count1[s[end]] >= 0:\n",
    "                count -= 1\n",
    "            if count == 0:\n",
    "                while True:\n",
    "                    if s[start] in count2 and count2[s[start]] > 0:\n",
    "                        if count1[s[start]] < 0:\n",
    "                            count1[s[start]] += 1\n",
    "                        else:\n",
    "                            break\n",
    "                    start += 1\n",
    "                if minSize > end - start + 1:\n",
    "                    minSize = end - start + 1\n",
    "                    minStart = start\n",
    "    if minSize < len(s) + 1:\n",
    "        return s[minStart:minStart + minSize]\n",
    "    else:\n",
    "        return \"\""
   ]
  },
  {
   "cell_type": "code",
   "execution_count": 85,
   "metadata": {},
   "outputs": [],
   "source": [
    "s = \"ADOBECODEBANC\"\n",
    "t = \"ABC\"\n",
    "from collections import Counter\n",
    "def minWindow(s,t):\n",
    "    if(len(s)==0 or len(t)==0):\n",
    "        return \"\"\n",
    "    \n",
    "    result = \"\"\n",
    "    match_count = 0\n",
    "    t_count = dict(Counter(t))\n",
    "    s_count = dict(zip(\" \".join(t).split(),[0 for i in range(len(t))]))\n",
    "    \n",
    "    left = find_index(0,s,t_count)\n",
    "    if(left == len(s)):\n",
    "        return \"\"\n",
    "    right = left\n",
    "    while(right < len(s)):\n",
    "        if t_count[s[right]]>s_count[s[right]]:\n",
    "            match_count+=1\n",
    "            s_count[s[right]] += 1\n",
    "        right += 1\n",
    "        while(left < len(s) and match_count == len(t)):\n",
    "            if len(result)==0 or len(result)>right-left+1:\n",
    "                result = s[left:right+1]\n",
    "            if s_count[s[left]] <= t_count[s[left]]:\n",
    "                match_count -= 1\n",
    "                s_count[s[left]] -= 1\n",
    "            \n",
    "            left = find_index(left+1,s,t_count)\n",
    "        right = find_index(right+1,s,t_count)\n",
    "    return result\n",
    "\n",
    "    \n",
    "def find_index(start,s,t_count):\n",
    "    while(start<len(s)):\n",
    "        if s[start] in t_count:\n",
    "            return start\n",
    "        start += 1\n",
    "    return 0"
   ]
  },
  {
   "cell_type": "code",
   "execution_count": 86,
   "metadata": {},
   "outputs": [
    {
     "ename": "KeyboardInterrupt",
     "evalue": "",
     "traceback": [
      "\u001b[0;31m---------------------------------------------------------------------------\u001b[0m",
      "\u001b[0;31mKeyboardInterrupt\u001b[0m                         Traceback (most recent call last)",
      "\u001b[0;32m<ipython-input-86-4bb2acd726a8>\u001b[0m in \u001b[0;36m<module>\u001b[0;34m()\u001b[0m\n\u001b[0;32m----> 1\u001b[0;31m \u001b[0mresult\u001b[0m \u001b[0;34m=\u001b[0m \u001b[0mminWindow\u001b[0m\u001b[0;34m(\u001b[0m\u001b[0ms\u001b[0m\u001b[0;34m,\u001b[0m\u001b[0mt\u001b[0m\u001b[0;34m)\u001b[0m\u001b[0;34m\u001b[0m\u001b[0m\n\u001b[0m",
      "\u001b[0;32m<ipython-input-85-0164ae3c0276>\u001b[0m in \u001b[0;36mminWindow\u001b[0;34m(s, t)\u001b[0m\n\u001b[1;32m     20\u001b[0m             \u001b[0ms_count\u001b[0m\u001b[0;34m[\u001b[0m\u001b[0ms\u001b[0m\u001b[0;34m[\u001b[0m\u001b[0mright\u001b[0m\u001b[0;34m]\u001b[0m\u001b[0;34m]\u001b[0m \u001b[0;34m+=\u001b[0m \u001b[0;36m1\u001b[0m\u001b[0;34m\u001b[0m\u001b[0m\n\u001b[1;32m     21\u001b[0m         \u001b[0mright\u001b[0m \u001b[0;34m+=\u001b[0m \u001b[0;36m1\u001b[0m\u001b[0;34m\u001b[0m\u001b[0m\n\u001b[0;32m---> 22\u001b[0;31m         \u001b[0;32mwhile\u001b[0m\u001b[0;34m(\u001b[0m\u001b[0mleft\u001b[0m \u001b[0;34m<\u001b[0m \u001b[0mlen\u001b[0m\u001b[0;34m(\u001b[0m\u001b[0ms\u001b[0m\u001b[0;34m)\u001b[0m \u001b[0;32mand\u001b[0m \u001b[0mmatch_count\u001b[0m \u001b[0;34m==\u001b[0m \u001b[0mlen\u001b[0m\u001b[0;34m(\u001b[0m\u001b[0mt\u001b[0m\u001b[0;34m)\u001b[0m\u001b[0;34m)\u001b[0m\u001b[0;34m:\u001b[0m\u001b[0;34m\u001b[0m\u001b[0m\n\u001b[0m\u001b[1;32m     23\u001b[0m             \u001b[0;32mif\u001b[0m \u001b[0mlen\u001b[0m\u001b[0;34m(\u001b[0m\u001b[0mresult\u001b[0m\u001b[0;34m)\u001b[0m\u001b[0;34m==\u001b[0m\u001b[0;36m0\u001b[0m \u001b[0;32mor\u001b[0m \u001b[0mlen\u001b[0m\u001b[0;34m(\u001b[0m\u001b[0mresult\u001b[0m\u001b[0;34m)\u001b[0m\u001b[0;34m>\u001b[0m\u001b[0mright\u001b[0m\u001b[0;34m-\u001b[0m\u001b[0mleft\u001b[0m\u001b[0;34m+\u001b[0m\u001b[0;36m1\u001b[0m\u001b[0;34m:\u001b[0m\u001b[0;34m\u001b[0m\u001b[0m\n\u001b[1;32m     24\u001b[0m                 \u001b[0mresult\u001b[0m \u001b[0;34m=\u001b[0m \u001b[0ms\u001b[0m\u001b[0;34m[\u001b[0m\u001b[0mleft\u001b[0m\u001b[0;34m:\u001b[0m\u001b[0mright\u001b[0m\u001b[0;34m+\u001b[0m\u001b[0;36m1\u001b[0m\u001b[0;34m]\u001b[0m\u001b[0;34m\u001b[0m\u001b[0m\n",
      "\u001b[0;31mKeyboardInterrupt\u001b[0m: "
     ],
     "output_type": "error"
    }
   ],
   "source": [
    "result = minWindow(s,t)"
   ]
  },
  {
   "cell_type": "code",
   "execution_count": 66,
   "metadata": {},
   "outputs": [],
   "source": [
    "def find_index(start,s,t_count):\n",
    "    while(start<len(s)):\n",
    "        if s[start] in t_count:\n",
    "            return start\n",
    "        start += 1\n",
    "    return 0\n",
    "t_count = {'A': 1, 'B': 1, 'C': 1}\n",
    "s = \"ADOBECODEBANC\""
   ]
  },
  {
   "cell_type": "code",
   "execution_count": 81,
   "metadata": {
    "collapsed": true
   },
   "outputs": [],
   "source": [
    "a = find_index(11,s,t_count)"
   ]
  },
  {
   "cell_type": "code",
   "execution_count": 83,
   "metadata": {},
   "outputs": [],
   "source": [
    "s_count = dict(zip(\" \".join(t).split(),[0 for i in range(len(t))]))"
   ]
  },
  {
   "cell_type": "code",
   "execution_count": 84,
   "metadata": {},
   "outputs": [
    {
     "data": {
      "text/plain": [
       "{'A': 0, 'B': 0, 'C': 0}"
      ]
     },
     "execution_count": 84,
     "metadata": {},
     "output_type": "execute_result"
    }
   ],
   "source": [
    "s_count"
   ]
  },
  {
   "cell_type": "code",
   "execution_count": null,
   "metadata": {
    "collapsed": true
   },
   "outputs": [],
   "source": [
    ""
   ]
  }
 ],
 "metadata": {
  "kernelspec": {
   "display_name": "Python 3",
   "language": "python",
   "name": "python3"
  },
  "language_info": {
   "codemirror_mode": {
    "name": "ipython",
    "version": 3.0
   },
   "file_extension": ".py",
   "mimetype": "text/x-python",
   "name": "python",
   "nbconvert_exporter": "python",
   "pygments_lexer": "ipython3",
   "version": "3.6.1"
  }
 },
 "nbformat": 4,
 "nbformat_minor": 0
}