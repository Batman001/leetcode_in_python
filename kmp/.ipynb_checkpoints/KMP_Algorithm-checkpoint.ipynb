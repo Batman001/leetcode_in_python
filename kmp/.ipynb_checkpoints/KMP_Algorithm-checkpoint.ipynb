{
 "cells": [
  {
   "cell_type": "code",
   "execution_count": 1,
   "metadata": {
    "collapsed": true
   },
   "outputs": [],
   "source": [
    "import numpy as np\n",
    "\n",
    "def get_next_array(modestr):\n",
    "    \"\"\"\n",
    "    计算得到模式字符串的next数组\n",
    "    :param modestr:\n",
    "    :return:\n",
    "    \"\"\"\n",
    "    NextArray = np.zeros(shape = (len(modestr),), dtype='int32')\n",
    "    NextArray[0] = -1\n",
    "    i = 0\n",
    "    j = -1\n",
    "\n",
    "    # while not finish whole modestr\n",
    "    while i < len(modestr) - 1:\n",
    "        if j == -1 or modestr[i] == modestr[j]:\n",
    "            # if first element of substring or match, check next\n",
    "            i += 1\n",
    "            j += 1\n",
    "            NextArray[i] = j\n",
    "        else:\n",
    "            # not match, jump to next j\n",
    "            j = NextArray[j]\n",
    "    return NextArray\n"
   ]
  },
  {
   "cell_type": "code",
   "execution_count": 11,
   "metadata": {},
   "outputs": [],
   "source": [
    "def KMP_Algorithm(mainstr, modestr):\n",
    "    NextArray = get_next_array(modestr)\n",
    "    i, j = 0, 0\n",
    "    # while not finish\n",
    "    while i < len(mainstr) and j < len(modestr):\n",
    "        # if first of modestr or match, check next\n",
    "        if j == -1 or mainstr[i] == modestr[j]:\n",
    "            i += 1\n",
    "            j += 1\n",
    "        else:\n",
    "            # if not match jump to next possible location of modestr\n",
    "            j = NextArray[j]\n",
    "    if j == len(modestr):\n",
    "        return i - j\n",
    "    else:\n",
    "        return -1"
   ]
  },
  {
   "cell_type": "code",
   "execution_count": 10,
   "metadata": {},
   "outputs": [
    {
     "data": {
      "text/plain": [
       "16"
      ]
     },
     "execution_count": 10,
     "metadata": {},
     "output_type": "execute_result"
    }
   ],
   "source": [
    "KMP_Algorithm(\"sdkfjsodifhsdkfanabsdlfasdf\", \"nab\")"
   ]
  },
  {
   "cell_type": "code",
   "execution_count": null,
   "metadata": {
    "collapsed": true
   },
   "outputs": [],
   "source": []
  }
 ],
 "metadata": {
  "kernelspec": {
   "display_name": "Python 3",
   "language": "python",
   "name": "python3"
  },
  "language_info": {
   "codemirror_mode": {
    "name": "ipython",
    "version": 3
   },
   "file_extension": ".py",
   "mimetype": "text/x-python",
   "name": "python",
   "nbconvert_exporter": "python",
   "pygments_lexer": "ipython3",
   "version": "3.6.1"
  }
 },
 "nbformat": 4,
 "nbformat_minor": 2
}
