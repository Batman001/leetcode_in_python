{
 "cells": [
  {
   "cell_type": "code",
   "execution_count": 1,
   "metadata": {
    "collapsed": true
   },
   "outputs": [],
   "source": [
    "import numpy as np\n",
    "\n",
    "def get_next_array(modestr):\n",
    "    \"\"\"\n",
    "    计算得到模式字符串的next数组\n",
    "    :param modestr:\n",
    "    :return:\n",
    "    \"\"\"\n",
    "    NextArray = np.zeros(shape = (len(modestr),), dtype='int32')\n",
    "    NextArray[0] = -1\n",
    "    i = 0\n",
    "    j = -1\n",
    "\n",
    "    # while not finish whole modestr\n",
    "    while i < len(modestr) - 1:\n",
    "        if j == -1 or modestr[i] == modestr[j]:\n",
    "            # if first element of substring or match, check next\n",
    "            i += 1\n",
    "            j += 1\n",
    "            NextArray[i] = j\n",
    "        else:\n",
    "            # not match, jump to next j\n",
    "            j = NextArray[j]\n",
    "    return NextArray\n"
   ]
  },
  {
   "cell_type": "code",
   "execution_count": null,
   "metadata": {
    "collapsed": true
   },
   "outputs": [],
   "source": [
    "def getNext(modestr):\n",
    "    NextArray = np.zeros(shape = (len(modestr),), dtype='int32')\n",
    "    \n",
    "    def get_prefix_suffix(strs):\n",
    "        \"\"\"\n",
    "        返回strs的索引位置的交集个数\n",
    "        \"\"\"\n",
    "        PMTArray = np.zeros(shape = (len(strs),), dtype='int32')\n",
    "        PMTArray[0] = 0\n",
    "        for i in range(1, len(strs)):\n",
    "            prefixs = []\n",
    "            suffix = []\n",
    "            "
   ]
  },
  {
   "cell_type": "code",
   "execution_count": 4,
   "metadata": {},
   "outputs": [],
   "source": [
    "def KMP_Algorithm(mainstr, modestr):\n",
    "    NextArray = get_next_array(modestr)\n",
    "    i, j = 0, 0\n",
    "    # while not finish\n",
    "    while i < len(mainstr) and j < len(modestr):\n",
    "        # if first of modestr or match, check next\n",
    "        '''\n",
    "        # 这里如果没有设置j = -1 而是选择j=0 如果第一位就匹配失败，如果i不动，j调整到NextArray[0] \n",
    "        如果NextArray[0]是0的情况下，则永远不匹配，死循环\n",
    "        所以设置NextArray[0] = -1 如果第一位匹配失败，则i+=1,j+=1 此时j变成0，即指向模式字符串的开头，i往后移动一格\n",
    "        '''\n",
    "        \n",
    "        if j == -1 or mainstr[i] == modestr[j]:\n",
    "            i += 1\n",
    "            j += 1\n",
    "        else:\n",
    "            # if not match jump to next possible location of modestr\n",
    "            j = NextArray[j]\n",
    "    if j == len(modestr):\n",
    "        return i - j\n",
    "    else:\n",
    "        return -1"
   ]
  },
  {
   "cell_type": "code",
   "execution_count": 5,
   "metadata": {},
   "outputs": [
    {
     "data": {
      "text/plain": [
       "16"
      ]
     },
     "execution_count": 5,
     "metadata": {},
     "output_type": "execute_result"
    }
   ],
   "source": [
    "KMP_Algorithm(\"sdkfjsodifhsdkfanabsdlfasdf\", \"nab\")"
   ]
  },
  {
   "cell_type": "code",
   "execution_count": null,
   "metadata": {
    "collapsed": true
   },
   "outputs": [],
   "source": []
  },
  {
   "cell_type": "code",
   "execution_count": null,
   "metadata": {
    "collapsed": true
   },
   "outputs": [],
   "source": []
  }
 ],
 "metadata": {
  "kernelspec": {
   "display_name": "Python 3",
   "language": "python",
   "name": "python3"
  },
  "language_info": {
   "codemirror_mode": {
    "name": "ipython",
    "version": 3
   },
   "file_extension": ".py",
   "mimetype": "text/x-python",
   "name": "python",
   "nbconvert_exporter": "python",
   "pygments_lexer": "ipython3",
   "version": "3.6.1"
  }
 },
 "nbformat": 4,
 "nbformat_minor": 2
}
